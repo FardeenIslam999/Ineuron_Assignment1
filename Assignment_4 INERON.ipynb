{
 "cells": [
  {
   "cell_type": "markdown",
   "id": "55d6b71e-4ba8-41c5-91d4-a879c193c9bf",
   "metadata": {},
   "source": [
    "**1. What exactly is [ ]?**"
   ]
  },
  {
   "cell_type": "markdown",
   "id": "3d118f60-e526-4964-bd41-8f26cb717c89",
   "metadata": {},
   "source": [
    " **Ans** = [ ] represents an empty list."
   ]
  },
  {
   "cell_type": "code",
   "execution_count": 4,
   "id": "1a0f9c54-406f-4a36-8f6f-d0972a2a2c3d",
   "metadata": {},
   "outputs": [
    {
     "data": {
      "text/plain": [
       "list"
      ]
     },
     "execution_count": 4,
     "metadata": {},
     "output_type": "execute_result"
    }
   ],
   "source": [
    "x = []\n",
    "type(x)"
   ]
  },
  {
   "cell_type": "markdown",
   "id": "e829cf55-a4eb-425b-b933-09495b621391",
   "metadata": {},
   "source": [
    "**2. In a list of values stored in a variable called spam, how would you assign the value 'hello' as the third value? (Assume [2, 4, 6, 8, 10] are in spam.)**"
   ]
  },
  {
   "cell_type": "code",
   "execution_count": 5,
   "id": "1f74c087-2509-4f43-b453-2767a6aefaa6",
   "metadata": {},
   "outputs": [
    {
     "data": {
      "text/plain": [
       "[2, 4, 'hello', 8, 10]"
      ]
     },
     "execution_count": 5,
     "metadata": {},
     "output_type": "execute_result"
    }
   ],
   "source": [
    "spam = [2,4,6,8,10]\n",
    "spam[2] = \"hello\"\n",
    "spam"
   ]
  },
  {
   "cell_type": "markdown",
   "id": "8501c7b5-c5ed-49eb-9cac-cb6c9930cf35",
   "metadata": {
    "tags": []
   },
   "source": [
    " <li>**Note** : As the list index starts with 0 So to change the third value we have use 2 as an index value."
   ]
  },
  {
   "cell_type": "markdown",
   "id": "ce2c0e23-e35d-47db-bec4-9cbb9e85c72a",
   "metadata": {},
   "source": [
    "**# Let's pretend the spam includes the list ['a', 'b','c','d'] for the next three queries.**\n"
   ]
  },
  {
   "cell_type": "markdown",
   "id": "adedc2da-862c-4007-b5f9-00aceed59666",
   "metadata": {},
   "source": [
    "__3. What is the value of spam[int(int('3'*2)//11)] ?__"
   ]
  },
  {
   "cell_type": "code",
   "execution_count": 8,
   "id": "975ee861-1782-4cfc-8fe1-fbcadaf80ae5",
   "metadata": {},
   "outputs": [
    {
     "data": {
      "text/plain": [
       "'d'"
      ]
     },
     "execution_count": 8,
     "metadata": {},
     "output_type": "execute_result"
    }
   ],
   "source": [
    "spam = ['a','b','c','d']\n",
    "spam[int(int('3'*2)//11)]\n"
   ]
  },
  {
   "cell_type": "markdown",
   "id": "76df780b-4eb7-4fc5-bfe6-72e36990d689",
   "metadata": {},
   "source": [
    "__4. What is the value of spam[-1]?__"
   ]
  },
  {
   "cell_type": "code",
   "execution_count": 9,
   "id": "88a18204-259a-4c32-b711-0327cdf9e1fc",
   "metadata": {},
   "outputs": [
    {
     "data": {
      "text/plain": [
       "'d'"
      ]
     },
     "execution_count": 9,
     "metadata": {},
     "output_type": "execute_result"
    }
   ],
   "source": [
    "spam = ['a','b','c','d']\n",
    "spam[-1]"
   ]
  },
  {
   "cell_type": "markdown",
   "id": "e5b17792-b4c5-48d1-b7a7-7eeab8a4bf95",
   "metadata": {},
   "source": [
    "**5. What is the value of spam[:2]**"
   ]
  },
  {
   "cell_type": "code",
   "execution_count": 10,
   "id": "37e0def7-aa66-40ba-82ad-d10beea1d1d6",
   "metadata": {},
   "outputs": [
    {
     "data": {
      "text/plain": [
       "['a', 'b']"
      ]
     },
     "execution_count": 10,
     "metadata": {},
     "output_type": "execute_result"
    }
   ],
   "source": [
    "spam = ['a','b','c','d']\n",
    "spam[:2]"
   ]
  },
  {
   "cell_type": "markdown",
   "id": "bdcaef2a-bca4-4b3b-8c8a-f9e34b9983fc",
   "metadata": {},
   "source": [
    "__# Let's pretend bacon has the list [3.14,'cat', 11, 'cat', True] for the next three questions.__"
   ]
  },
  {
   "cell_type": "markdown",
   "id": "29957be2-7421-4619-bffa-18cd78d2e020",
   "metadata": {},
   "source": [
    "__6. What is the value of bacon.index('cat').__"
   ]
  },
  {
   "cell_type": "code",
   "execution_count": 15,
   "id": "725e1133-aa9c-44a5-9fd7-01cbcda49ff9",
   "metadata": {},
   "outputs": [
    {
     "data": {
      "text/plain": [
       "1"
      ]
     },
     "execution_count": 15,
     "metadata": {},
     "output_type": "execute_result"
    }
   ],
   "source": [
    "bacon = [3.14, 'cat', 11, 'cat', True]\n",
    "bacon.index('cat')"
   ]
  },
  {
   "cell_type": "markdown",
   "id": "6febaffc-d683-437d-8dc9-69afeecc0864",
   "metadata": {},
   "source": [
    "__7. How does bacon.append(99) change the look of the list value in bacon.__"
   ]
  },
  {
   "cell_type": "markdown",
   "id": "fc967ebd-2637-44aa-8e68-7ff10cac7cb7",
   "metadata": {},
   "source": [
    "**Ans** = When an append operation is perfomed on the list, the value will be added to the last index of the list."
   ]
  },
  {
   "cell_type": "code",
   "execution_count": 32,
   "id": "32e39329-4166-4796-8218-626abff3e7b7",
   "metadata": {},
   "outputs": [
    {
     "data": {
      "text/plain": [
       "[3.14, 'cat', 11, 'cat', True, 99]"
      ]
     },
     "execution_count": 32,
     "metadata": {},
     "output_type": "execute_result"
    }
   ],
   "source": [
    "bacon = [3.14, 'cat', 11, 'cat', True]\n",
    "bacon.append(99)\n",
    "bacon"
   ]
  },
  {
   "cell_type": "markdown",
   "id": "ac8380ff-2bce-4bab-a9c2-bdbf91a500c8",
   "metadata": {},
   "source": [
    "__8. How does bacon.remove('cat') change the look of the list in bacon?__"
   ]
  },
  {
   "cell_type": "code",
   "execution_count": 31,
   "id": "114062c5-1c06-4d4e-8944-f1f01c5a02ab",
   "metadata": {},
   "outputs": [
    {
     "data": {
      "text/plain": [
       "[3.14, 11, 'cat', True]"
      ]
     },
     "execution_count": 31,
     "metadata": {},
     "output_type": "execute_result"
    }
   ],
   "source": [
    "bacon = [3.14, 'cat', 11, 'cat', True]\n",
    "bacon.remove('cat')\n",
    "bacon"
   ]
  },
  {
   "cell_type": "markdown",
   "id": "85f298fd-83a4-4753-ab45-b3b55987124c",
   "metadata": {},
   "source": [
    "__9. what are the list concatenation and list replication operations?__"
   ]
  },
  {
   "cell_type": "markdown",
   "id": "774f4a55-4a09-48d5-9905-c8adbe24d7a7",
   "metadata": {},
   "source": [
    "**Ans** = The operator for list concatenation is + , while the operator for replication is *."
   ]
  },
  {
   "cell_type": "markdown",
   "id": "780d3145-1f67-4687-8f97-82456e31fce0",
   "metadata": {},
   "source": [
    "__10. what is the difference between the list method append() and insert()?__"
   ]
  },
  {
   "cell_type": "markdown",
   "id": "6c7dca5c-f8b1-4a37-a3e4-e82a42e3a93b",
   "metadata": {},
   "source": [
    "**Ans** = <li>Append() : Is used for adding the new element to the list AT THE LAST POSITION OF THE LIST.\n",
    "      <li> Insert() : Is used for adding the new element to the list AT THE SPECIFIED POSITION/INDEX IN THE LIST."
   ]
  },
  {
   "cell_type": "code",
   "execution_count": 34,
   "id": "a62bc9c7-5418-44f0-9cc4-56094349331d",
   "metadata": {},
   "outputs": [
    {
     "data": {
      "text/plain": [
       "[1, 2, 3, 4, 5, 'six!!']"
      ]
     },
     "execution_count": 34,
     "metadata": {},
     "output_type": "execute_result"
    }
   ],
   "source": [
    "# APPEND OPERATION\n",
    "\n",
    "num1 = [1,2,3,4,5]\n",
    "num1.append('six!!')\n",
    "num1"
   ]
  },
  {
   "cell_type": "code",
   "execution_count": 37,
   "id": "1d9aa00e-faff-4aee-964b-84044d0114e8",
   "metadata": {},
   "outputs": [
    {
     "data": {
      "text/plain": [
       "[1, 2, 3, 4, 'One', 5]"
      ]
     },
     "execution_count": 37,
     "metadata": {},
     "output_type": "execute_result"
    }
   ],
   "source": [
    "# INSERT OPERATION\n",
    "\n",
    "num1 = [1,2,3,4,5]\n",
    "num1.insert(4, 'One')\n",
    "num1\n",
    "# Since the index starts from 0 so it has added/inserted value to the 5th position."
   ]
  },
  {
   "cell_type": "markdown",
   "id": "3b746afe-ad13-4be3-88d7-7147255f8c8b",
   "metadata": {},
   "source": [
    "__11. What are the two methods for removing items from a list?__"
   ]
  },
  {
   "cell_type": "markdown",
   "id": "d9cd5139-13a9-4adf-8441-88bf1a054180",
   "metadata": {},
   "source": [
    "**Ans** =   <li>POP()    : Removes the last element from the list    \n",
    "        <li>REMOVE() : Removes the first occurance of the specified element"
   ]
  },
  {
   "cell_type": "markdown",
   "id": "6a942170-70ec-488d-afd9-697c78e9322f",
   "metadata": {},
   "source": [
    "__12. Describe how list values and string values are identical.__"
   ]
  },
  {
   "cell_type": "markdown",
   "id": "10582d0e-7be6-40ce-9a0c-50792b6e9adc",
   "metadata": {},
   "source": [
    "**Ans** = Both can be hold any kind of values\n",
    "\n",
    "     For example\n",
    "     str1 = '13'\n",
    "     str2 = '15 + 5j'\n",
    "     list1 = [\"6\", 3 + 5j]\n"
   ]
  },
  {
   "cell_type": "markdown",
   "id": "31abb425-2e24-489d-9c79-734087e158f1",
   "metadata": {},
   "source": [
    "__13. What's the difference between tuples and lists?__"
   ]
  },
  {
   "cell_type": "markdown",
   "id": "9b27a343-32ec-4a63-b4fc-02faf61330b7",
   "metadata": {},
   "source": [
    "**Ans** = <li> List : Lists are mutable, Once defined can be change over the period of time. which means their elements can be changed (added, modified, or deleted) after they are created. They are written using Square brackets [].\n",
    "      <li>Tuple : Tuples are immutable, Once defined cannot be change over the period of time. They are written using parenthesis ()."
   ]
  },
  {
   "cell_type": "markdown",
   "id": "5ef73667-5d58-4512-b528-a2c1566218f1",
   "metadata": {},
   "source": [
    "__14. How do you type a tuple value that only contains the integer 42?__"
   ]
  },
  {
   "cell_type": "code",
   "execution_count": 7,
   "id": "2c8445ca-2789-4c70-87f9-79a4160403a5",
   "metadata": {},
   "outputs": [
    {
     "name": "stdout",
     "output_type": "stream",
     "text": [
      "42 <class 'int'>\n"
     ]
    }
   ],
   "source": [
    "        A = (42) \n",
    "        print(A,type(A))"
   ]
  },
  {
   "cell_type": "markdown",
   "id": "d453258a-a089-4b30-aeef-5a811d888460",
   "metadata": {},
   "source": [
    "__15. How do you get a list value's tuple form? How do you get a tuple value's list form?__"
   ]
  },
  {
   "cell_type": "code",
   "execution_count": 8,
   "id": "7a974646-e663-4030-a859-91317dd5bc3f",
   "metadata": {},
   "outputs": [
    {
     "name": "stdout",
     "output_type": "stream",
     "text": [
      "<class 'tuple'>\n"
     ]
    },
    {
     "data": {
      "text/plain": [
       "(1, 2, 3, 4, 5, 6)"
      ]
     },
     "execution_count": 8,
     "metadata": {},
     "output_type": "execute_result"
    }
   ],
   "source": [
    "# List --> Tuple\n",
    "a_list = [1,2,3,4,5,6]\n",
    "\n",
    "a_tuple = tuple(a_list)\n",
    "\n",
    "print(type(a_tuple))\n",
    "a_tuple"
   ]
  },
  {
   "cell_type": "code",
   "execution_count": 9,
   "id": "07200337-e804-49e3-8a42-90c120b0b969",
   "metadata": {},
   "outputs": [
    {
     "name": "stdout",
     "output_type": "stream",
     "text": [
      "<class 'list'>\n"
     ]
    },
    {
     "data": {
      "text/plain": [
       "[1, 2, 3, 4, 5, 6]"
      ]
     },
     "execution_count": 9,
     "metadata": {},
     "output_type": "execute_result"
    }
   ],
   "source": [
    "# Tuple --> List\n",
    "a_tuple = (1,2,3,4,5,6)\n",
    "\n",
    "a_list = list(a_tuple)\n",
    "\n",
    "print(type(a_list))\n",
    "a_list"
   ]
  },
  {
   "cell_type": "markdown",
   "id": "4b39c9bf-7dba-40f5-8a26-8edae0a91bdb",
   "metadata": {},
   "source": [
    "__16. Variables that \"contain\" list values are not necessarily lists themselves. Instead, what do they contain?__"
   ]
  },
  {
   "cell_type": "markdown",
   "id": "5b0e30c4-59bb-43f1-9664-9fb7142ac800",
   "metadata": {},
   "source": [
    "**Ans** = Variables will contain the references to list values."
   ]
  },
  {
   "cell_type": "markdown",
   "id": "f960e477-09c7-499c-a519-08a8f196c665",
   "metadata": {},
   "source": [
    "__17. How do you distinguish between copy.copy() and copy.deepcopy()?__"
   ]
  },
  {
   "cell_type": "markdown",
   "id": "9c7e44f4-ddcb-4b75-8f4e-43d921e45f88",
   "metadata": {},
   "source": [
    "**Ans** = The copy.copy() function will do a shallow copy of a list, while the copy.deepcopy() function will do a deep copy of a list. That is, only copy.deepcopy() will duplicate any lists inside the list."
   ]
  }
 ],
 "metadata": {
  "kernelspec": {
   "display_name": "Python 3 (ipykernel)",
   "language": "python",
   "name": "python3"
  },
  "language_info": {
   "codemirror_mode": {
    "name": "ipython",
    "version": 3
   },
   "file_extension": ".py",
   "mimetype": "text/x-python",
   "name": "python",
   "nbconvert_exporter": "python",
   "pygments_lexer": "ipython3",
   "version": "3.10.6"
  }
 },
 "nbformat": 4,
 "nbformat_minor": 5
}

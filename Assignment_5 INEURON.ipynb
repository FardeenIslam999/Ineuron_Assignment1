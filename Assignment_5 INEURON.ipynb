{
 "cells": [
  {
   "cell_type": "markdown",
   "id": "ad63d83b-9a66-4ef3-9973-837785e5a9ca",
   "metadata": {},
   "source": [
    "__1. What does an empty dictionary's code look like?__"
   ]
  },
  {
   "cell_type": "markdown",
   "id": "9faf06bd-2886-476a-af0e-676dbf6689af",
   "metadata": {},
   "source": [
    "__Ans__ = "
   ]
  },
  {
   "cell_type": "code",
   "execution_count": 2,
   "id": "be76b3db-94e3-414a-b2e0-fa8fe7c1f7df",
   "metadata": {},
   "outputs": [
    {
     "data": {
      "text/plain": [
       "dict"
      ]
     },
     "execution_count": 2,
     "metadata": {},
     "output_type": "execute_result"
    }
   ],
   "source": [
    "a_dict = {}\n",
    "type(a_dict)"
   ]
  },
  {
   "cell_type": "markdown",
   "id": "1aa43afc-92ad-4020-8eec-007e53a651a9",
   "metadata": {},
   "source": [
    "__2. What is the value of a dictionary value with the key 'foo' and the value 42?__"
   ]
  },
  {
   "cell_type": "code",
   "execution_count": 4,
   "id": "7d082168-0797-4282-8d8b-868ef50cf37a",
   "metadata": {},
   "outputs": [
    {
     "data": {
      "text/plain": [
       "42"
      ]
     },
     "execution_count": 4,
     "metadata": {},
     "output_type": "execute_result"
    }
   ],
   "source": [
    "a = {'foo': 42}\n",
    "\n",
    "a['foo']"
   ]
  },
  {
   "cell_type": "markdown",
   "id": "9af25f2e-f3dc-49d3-b99a-6696fe88b381",
   "metadata": {},
   "source": [
    "__3. What is the most significant distinction between a dictionary and a list?__"
   ]
  },
  {
   "cell_type": "markdown",
   "id": "18397774-9725-434e-9dbe-6a112da3fff1",
   "metadata": {},
   "source": [
    "__Ans__ = The items in a list are ordered items, while the items stored in a dictionary are unordered."
   ]
  },
  {
   "cell_type": "markdown",
   "id": "d4befd9f-7c99-444a-a649-c269186770b1",
   "metadata": {},
   "source": [
    "__4. What happens if you try to access spam['foo'] if spam is {'bar': 100}?__"
   ]
  },
  {
   "cell_type": "code",
   "execution_count": 8,
   "id": "050528af-cd09-419f-888f-443f89460bee",
   "metadata": {},
   "outputs": [
    {
     "ename": "KeyError",
     "evalue": "'foo'",
     "output_type": "error",
     "traceback": [
      "\u001b[0;31m---------------------------------------------------------------------------\u001b[0m",
      "\u001b[0;31mKeyError\u001b[0m                                  Traceback (most recent call last)",
      "Cell \u001b[0;32mIn [8], line 2\u001b[0m\n\u001b[1;32m      1\u001b[0m spam \u001b[38;5;241m=\u001b[39m {\u001b[38;5;124m'\u001b[39m\u001b[38;5;124mbar\u001b[39m\u001b[38;5;124m'\u001b[39m: \u001b[38;5;241m100\u001b[39m}\n\u001b[0;32m----> 2\u001b[0m \u001b[43mspam\u001b[49m\u001b[43m[\u001b[49m\u001b[38;5;124;43m'\u001b[39;49m\u001b[38;5;124;43mfoo\u001b[39;49m\u001b[38;5;124;43m'\u001b[39;49m\u001b[43m]\u001b[49m\n",
      "\u001b[0;31mKeyError\u001b[0m: 'foo'"
     ]
    }
   ],
   "source": [
    "spam = {'bar': 100}\n",
    "spam['foo']\n",
    "# It throws an KeyError."
   ]
  },
  {
   "cell_type": "markdown",
   "id": "ee82a793-2a85-455c-831b-8ebb7e795260",
   "metadata": {},
   "source": [
    "__5. If a dictionary is stored in spam,what is the difference between the expressions 'cat' in spam and 'cat' in spam.keys()?__\n"
   ]
  },
  {
   "cell_type": "markdown",
   "id": "87814efa-6921-43d1-b2e6-b9045073194f",
   "metadata": {},
   "source": [
    "__Ans__ = There is no difference. The in operator checks whether a value exists as a key in the dictionary or not."
   ]
  },
  {
   "cell_type": "code",
   "execution_count": 13,
   "id": "f0864ca3-4850-4566-984d-b44d29b27afd",
   "metadata": {},
   "outputs": [
    {
     "name": "stdout",
     "output_type": "stream",
     "text": [
      "{'cat': '22'}\n"
     ]
    },
    {
     "data": {
      "text/plain": [
       "True"
      ]
     },
     "execution_count": 13,
     "metadata": {},
     "output_type": "execute_result"
    }
   ],
   "source": [
    "spam = {\"cat\" : \"22\"}\n",
    "print(spam)\n",
    "\"cat\" in spam"
   ]
  },
  {
   "cell_type": "code",
   "execution_count": 15,
   "id": "2712a11f-c3d7-4582-803b-e858969307ac",
   "metadata": {},
   "outputs": [
    {
     "data": {
      "text/plain": [
       "True"
      ]
     },
     "execution_count": 15,
     "metadata": {},
     "output_type": "execute_result"
    }
   ],
   "source": [
    "\"cat\" in spam.keys()"
   ]
  },
  {
   "cell_type": "markdown",
   "id": "5b76f980-b150-4066-9231-30488ebd49fc",
   "metadata": {},
   "source": [
    "__6. If a dictionary is stored in spam, what is the difference between the expressions 'cat' in spam and 'cat' in spam.values()?__"
   ]
  },
  {
   "cell_type": "markdown",
   "id": "16d5f837-a233-4788-8775-932eddd9080c",
   "metadata": {},
   "source": [
    "__Ans__  = 'cat' in spam checks whether there is a 'cat' key in the dictionary, while 'cat' in spam.values() checks whether there is a value 'cat' for one of the keys in spam."
   ]
  },
  {
   "cell_type": "code",
   "execution_count": 17,
   "id": "940f97f5-0527-4403-ac25-2e03ad9cdfb5",
   "metadata": {},
   "outputs": [
    {
     "name": "stdout",
     "output_type": "stream",
     "text": [
      "{'cat': '22'}\n"
     ]
    },
    {
     "data": {
      "text/plain": [
       "True"
      ]
     },
     "execution_count": 17,
     "metadata": {},
     "output_type": "execute_result"
    }
   ],
   "source": [
    "spam = {\"cat\" : \"22\"}\n",
    "print(spam)\n",
    "\"cat\" in spam"
   ]
  },
  {
   "cell_type": "code",
   "execution_count": 18,
   "id": "dd4bb933-c5ca-4c8a-9bc7-f2a2597eccf7",
   "metadata": {},
   "outputs": [
    {
     "data": {
      "text/plain": [
       "False"
      ]
     },
     "execution_count": 18,
     "metadata": {},
     "output_type": "execute_result"
    }
   ],
   "source": [
    "\"cat\" in spam.values()"
   ]
  },
  {
   "cell_type": "markdown",
   "id": "991adaec-2036-42bf-a57c-00bb136b5e2b",
   "metadata": {},
   "source": [
    "__7.What is a shortcut for the following code? if 'color' not in spam: spam['color'] = 'black'__"
   ]
  },
  {
   "cell_type": "code",
   "execution_count": 24,
   "id": "5ca3bac7-b5d3-462f-92a9-4161db66dc8c",
   "metadata": {},
   "outputs": [
    {
     "name": "stdout",
     "output_type": "stream",
     "text": [
      "{'num': 903, 'color': 'black'}\n"
     ]
    }
   ],
   "source": [
    "spam = {'num' : 903}\n",
    "\n",
    "# This stmt will automatically create a new key named 'color' if the 'color' key is not present within the dictionary\n",
    "spam['color'] = 'black'\n",
    "# Also if the 'color' key is present within the dictionary; the value of that key will be updated\n",
    "\n",
    "print(spam)"
   ]
  },
  {
   "cell_type": "markdown",
   "id": "80aca48d-66db-42d4-9d04-a0b77bd629c8",
   "metadata": {},
   "source": [
    "__8. How do you \"pretty print\" dictionary values using which module and function?__"
   ]
  },
  {
   "cell_type": "markdown",
   "id": "fdcce3d9-0305-4596-9f07-fe6eb3332141",
   "metadata": {},
   "source": [
    "__Ans__ = pprint is the python built-in module that can be used to print python datatypes in a more readable way. Within the pprint module; pprint() function is used to perform this operation."
   ]
  },
  {
   "cell_type": "code",
   "execution_count": null,
   "id": "9d714cd7-34db-4dc9-9957-786641a0b04d",
   "metadata": {},
   "outputs": [],
   "source": []
  }
 ],
 "metadata": {
  "kernelspec": {
   "display_name": "Python 3 (ipykernel)",
   "language": "python",
   "name": "python3"
  },
  "language_info": {
   "codemirror_mode": {
    "name": "ipython",
    "version": 3
   },
   "file_extension": ".py",
   "mimetype": "text/x-python",
   "name": "python",
   "nbconvert_exporter": "python",
   "pygments_lexer": "ipython3",
   "version": "3.10.6"
  }
 },
 "nbformat": 4,
 "nbformat_minor": 5
}

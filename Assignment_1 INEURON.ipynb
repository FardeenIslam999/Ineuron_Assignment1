{
 "cells": [
  {
   "cell_type": "markdown",
   "id": "b65a35f0",
   "metadata": {},
   "source": [
    "1. In the below elements which of them are values or an expression? eg:- values can be integer or string and expressions will be mathematical operators.\n",
    " \n",
    "# * \n",
    "# 'hello'\n",
    "# -87.8\n",
    "# - \n",
    "# / \n",
    "# +\n",
    "# 6 "
   ]
  },
  {
   "cell_type": "markdown",
   "id": "ee5656f7",
   "metadata": {},
   "source": [
    "Ans = * - Expression, 'hello' - String, -87.8 - Value, - - Expression, / - Expression, + - Expression, 6 - Value."
   ]
  },
  {
   "cell_type": "markdown",
   "id": "1af5673b",
   "metadata": {},
   "source": [
    "2. What is the difference between string and variable?"
   ]
  },
  {
   "cell_type": "markdown",
   "id": "3d6530f7",
   "metadata": {},
   "source": [
    "Ans = A \"string\" in python is a value representing text where characters or texts are enclosed in a quotes.For example - a = 'Hey,I'm Fardeen!' Whereas \"variable\" is a name that is given to a value. For example- a = 67."
   ]
  },
  {
   "cell_type": "markdown",
   "id": "9b6fa0d7",
   "metadata": {},
   "source": [
    "3. Describe three different data types.\n"
   ]
  },
  {
   "cell_type": "markdown",
   "id": "854c4df6",
   "metadata": {},
   "source": [
    "Ans =  Three different data types are -\n",
    "\n",
    "\n",
    "       Integers : Integers are whole numbers, without a fractional component. They can be positive or negative.\n",
    "\n",
    "           x = 300\n",
    "           y = -8\n",
    "       Floats: Floats represent real numbers and are written with a decimal point.\n",
    "\n",
    "           x = 39.0\n",
    "           y = -3.14\n",
    "       Strings: Strings in Python are sequences of character data. They are created by enclosing characters in quotes.\n",
    "\n",
    "           s = \"Hello,I'm Fardeen!\"\n",
    "           print(s)\n",
    "           Hello,I'm Fardeen!"
   ]
  },
  {
   "cell_type": "markdown",
   "id": "98bd564e",
   "metadata": {},
   "source": [
    "4. What is an expression made up of? What do all expressions do?"
   ]
  },
  {
   "cell_type": "markdown",
   "id": "9928c5e4",
   "metadata": {},
   "source": [
    "Ans = An expression is made up of identifiers,operations and operands.They help to evaluate value or in another words to obtain results."
   ]
  },
  {
   "cell_type": "markdown",
   "id": "0cde7aa0",
   "metadata": {},
   "source": [
    "5. This assignment statements, like spam = 10. What is the difference between an expression and a statement?"
   ]
  },
  {
   "cell_type": "markdown",
   "id": "48258cb4",
   "metadata": {},
   "source": [
    "Ans = \"Expression\" is a functions which is used to obtain a result.For example - spam = 10 + y (Is an expression),Whereas \"statement\" is a logical instruction that the python interpreter can read and execute. For example - spam = 10 (Is a statement)."
   ]
  },
  {
   "cell_type": "markdown",
   "id": "52f5c8fe",
   "metadata": {},
   "source": [
    "6. After running the following code, what does the variable bacon contain?\n",
    "bacon = 22\n",
    "bacon + 1\n"
   ]
  },
  {
   "cell_type": "markdown",
   "id": "0b19cac6",
   "metadata": {},
   "source": [
    "Ans =       Bacon = 22\n",
    "            "
   ]
  },
  {
   "cell_type": "markdown",
   "id": "f70ed806",
   "metadata": {},
   "source": [
    "7. What should the values of the following two terms be?\n",
    "'spam' + 'spamspam',\n",
    "'spam' * 3\n"
   ]
  },
  {
   "cell_type": "markdown",
   "id": "64d12f74",
   "metadata": {},
   "source": [
    "Ans = 'spam'+'spamspam' - 'spamspamspam',\n",
    "      'spam'*3          - 'spamspamspam'"
   ]
  },
  {
   "cell_type": "markdown",
   "id": "8d726419",
   "metadata": {},
   "source": [
    "8. Why is eggs a valid variable name while 100 is invalid?"
   ]
  },
  {
   "cell_type": "markdown",
   "id": "8e232114",
   "metadata": {},
   "source": [
    "Ans = In python there are certain rules which says variable names can be of any length and can consist of uppercase and lowercase letters like - ( A-Z , a-z ), digits ( 0-9 ), and the underscore character ( _ ).But, the first character of a variable name cannot be a digit.Becuase of this rule \"eggs\" is valid variables name while 100 is not."
   ]
  },
  {
   "cell_type": "markdown",
   "id": "47e1bf70",
   "metadata": {},
   "source": [
    "9. What three functions can be used to get the integer, floating-point number, or string version of a value?"
   ]
  },
  {
   "cell_type": "markdown",
   "id": "3e43702b",
   "metadata": {},
   "source": [
    "Ans = Three Functions are -\n",
    "int(),float() and str()"
   ]
  },
  {
   "cell_type": "markdown",
   "id": "0db09e2c",
   "metadata": {},
   "source": [
    "10. Why does this expression cause an error? How can you fix it?\n",
    "'I have eaten ' + 99 + ' burritos.'\n"
   ]
  },
  {
   "cell_type": "markdown",
   "id": "940154e1",
   "metadata": {},
   "source": [
    "Ans = In this expression both string and integer are present together which throughs an error. we can fixs this by putting quote around 99 ('99').The correct expression will be - 'I have eaten ''99 '' burritos'."
   ]
  },
  {
   "cell_type": "code",
   "execution_count": null,
   "id": "d87600fb",
   "metadata": {},
   "outputs": [],
   "source": []
  },
  {
   "cell_type": "code",
   "execution_count": null,
   "id": "6bf980ce",
   "metadata": {},
   "outputs": [],
   "source": []
  }
 ],
 "metadata": {
  "kernelspec": {
   "display_name": "Python 3 (ipykernel)",
   "language": "python",
   "name": "python3"
  },
  "language_info": {
   "codemirror_mode": {
    "name": "ipython",
    "version": 3
   },
   "file_extension": ".py",
   "mimetype": "text/x-python",
   "name": "python",
   "nbconvert_exporter": "python",
   "pygments_lexer": "ipython3",
   "version": "3.9.13"
  }
 },
 "nbformat": 4,
 "nbformat_minor": 5
}

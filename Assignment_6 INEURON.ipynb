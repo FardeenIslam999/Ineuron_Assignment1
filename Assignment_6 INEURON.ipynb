{
 "cells": [
  {
   "cell_type": "markdown",
   "id": "becddb08-93fa-449e-bb6d-43a6e9e3a5d9",
   "metadata": {},
   "source": [
    "__Q.1. What are keywords in python? Using the keyword library, print all the python keywords.__"
   ]
  },
  {
   "cell_type": "markdown",
   "id": "feb46c17-6fce-4291-b47a-c8151ffd5cb2",
   "metadata": {},
   "source": [
    "__Ans__ = **Keywords** in Python are reserved words that cannot be used as ordinary identifiers. They are used to define the syntax and structure of the Python language."
   ]
  },
  {
   "cell_type": "code",
   "execution_count": 3,
   "id": "ac77c60d-0af4-46c8-ae11-6c1d0a6f3395",
   "metadata": {},
   "outputs": [
    {
     "name": "stdout",
     "output_type": "stream",
     "text": [
      "['False', 'None', 'True', 'and', 'as', 'assert', 'async', 'await', 'break', 'class', 'continue', 'def', 'del', 'elif', 'else', 'except', 'finally', 'for', 'from', 'global', 'if', 'import', 'in', 'is', 'lambda', 'nonlocal', 'not', 'or', 'pass', 'raise', 'return', 'try', 'while', 'with', 'yield']\n"
     ]
    }
   ],
   "source": [
    "import keyword\n",
    "print(keyword.kwlist)"
   ]
  },
  {
   "cell_type": "markdown",
   "id": "eccf26f5-2ef9-4ccb-bd69-5b5e7c82b1d1",
   "metadata": {},
   "source": [
    "__Q.2. What are the rules to create variables in python?__"
   ]
  },
  {
   "cell_type": "markdown",
   "id": "0450a3d8-650d-4ea7-a00e-06c3fe697679",
   "metadata": {},
   "source": [
    "**Ans** = The rules to create variables in python are :\n",
    "<li><code>Reserved Keywords</code>: You cannot use reserved keywords as variable names. These are words that have special meanings in Python, such as \"if\", \"for\", \"while\", \"def\", etc.\n",
    "<li><code>Assignment</code>: To assign a value to a variable, use the assignment operator (=). For example, x = 10.\n",
    "<li><code>Avoid Starting with Underscore</code>: Variables that start with an underscore have a special meaning in Python, such as indicating a private variable. It is generally recommended to avoid starting variable names with an underscore, unless you have a specific reason to use it.\n",
    "<li><code>Variable Name</code>: The variable name can consist of letters (both uppercase and lowercase), digits, and underscores. The first character of the variable name cannot be a digit. The variable name is case-sensitive, meaning myVar and myvar are treated as different variables.\n",
    "<li><code>Data Types</code>: Variables in Python are dynamically typed, meaning you do not need to explicitly specify the data type of the variable. The data type is inferred based on the assigned value.\n",
    "\n",
    "\n"
   ]
  },
  {
   "cell_type": "markdown",
   "id": "763731f1-7802-4990-a019-fa0d2423721d",
   "metadata": {},
   "source": [
    "__Q.3. What are the standards and conventions followed for the nomenclature of variables in python to improve code readability and maintainability?__"
   ]
  },
  {
   "cell_type": "markdown",
   "id": "b58ed8ce-b1d8-4849-a557-46e0797fbd05",
   "metadata": {},
   "source": [
    "**Ans** =  In Python, there are several standards and conventions that are followed to improve code readability and maintainability. These conventions are documented in PEP 8, the official Python style guide. Here are some key points related to variable naming conventions:\n",
    "\n",
    "1. **Use descriptive and meaningful names**: Variable names should accurately describe the purpose or content of the variable. This helps make the code more readable and self-explanatory.\n",
    "\n",
    "2. **Use lowercase letters**: Variable names are typically written in lowercase letters. For example, num , name, age.\n",
    "\n",
    "3. **Separate words with underscores**: If a variable name consists of multiple words, it is common to separate them using underscores (Result_case). For example, first_name, total_count.\n",
    "\n",
    "4. **Avoid single-letter names (unless appropriate)**: In most cases, it is recommended to avoid using single-letter variable names like x, y, z. Instead, choose more descriptive names that convey the purpose of the variable.\n",
    "\n",
    "5. **Be consistent and follow naming conventions**: It's important to be consistent with variable naming conventions throughout the codebase. If a specific naming convention is already established, follow it consistently.\n",
    "\n",
    "6. **Avoid using reserved keywords**: As mentioned earlier, avoid using Python's reserved keywords as variable names to prevent conflicts and syntax errors.\n",
    "\n",
    "7. **Use meaningful abbreviations**: If an abbreviation is commonly understood or widely used, it can be used in variable names. However, avoid excessive or unclear abbreviations that may make the code harder to understand.\n",
    "\n",
    "8. **Use proper capitalization for constants**: If a variable is intended to be a constant (a value that does not change), it is conventionally written in uppercase letters with underscores separating words. For example, MAX_SIZE, PI.\n",
    "\n",
    "9. **Consider the scope of the variable**: Variable names should reflect the scope and context in which they are used. For example, using prefixes like self. for instance variables in classes, or g_ for global variables.\n",
    "\n",
    "These conventions help make your code more readable, consistent, and maintainable. Adhering to these standards can improve collaboration with other developers and enhance the overall quality of your Python code."
   ]
  },
  {
   "cell_type": "markdown",
   "id": "263a638c-5d4f-4547-a6ec-34a31ae473c0",
   "metadata": {},
   "source": [
    "__Q.4. What will happen if a keyword is used as a variable name?__"
   ]
  },
  {
   "cell_type": "markdown",
   "id": "9ce6d4e8-471b-48b8-9449-57b58f82c35e",
   "metadata": {},
   "source": [
    "**Ans** = If a keyword is used as a variable name then it throws an syntax error. Because in python their are certain rules which says to not use the reserve keyword. Example :"
   ]
  },
  {
   "cell_type": "code",
   "execution_count": 5,
   "id": "e3d3511b-e3ed-42f6-a422-471a1443ad69",
   "metadata": {},
   "outputs": [
    {
     "ename": "SyntaxError",
     "evalue": "cannot assign to None (2214735066.py, line 1)",
     "output_type": "error",
     "traceback": [
      "\u001b[0;36m  Cell \u001b[0;32mIn [5], line 1\u001b[0;36m\u001b[0m\n\u001b[0;31m    None = 999\u001b[0m\n\u001b[0m    ^\u001b[0m\n\u001b[0;31mSyntaxError\u001b[0m\u001b[0;31m:\u001b[0m cannot assign to None\n"
     ]
    }
   ],
   "source": [
    "None = 999\n",
    "print(None)"
   ]
  },
  {
   "cell_type": "markdown",
   "id": "fb5d7cde-8b13-4340-b10c-b5d9c1e77794",
   "metadata": {},
   "source": [
    "__Q.5. For what purpose def keyword is used?__"
   ]
  },
  {
   "cell_type": "markdown",
   "id": "4b98051c-f13b-42ca-a802-12e5392fa412",
   "metadata": {},
   "source": [
    "**Ans** = In Python def keyword is used to define a function, it is placed before a function name that is provided by the user to create a user-defined function. Example : \n"
   ]
  },
  {
   "cell_type": "code",
   "execution_count": 12,
   "id": "bcc236fd-ef77-45e2-9fc5-d3d161ba26ef",
   "metadata": {},
   "outputs": [
    {
     "name": "stdout",
     "output_type": "stream",
     "text": [
      "Hello, World\n"
     ]
    }
   ],
   "source": [
    "def func():\n",
    "    print(\"Hello, World\")\n",
    "func()"
   ]
  },
  {
   "cell_type": "markdown",
   "id": "3b363aa8-78a3-42f1-a361-5ee92f4f5b0b",
   "metadata": {},
   "source": [
    "__Q.6. What is the operation of this special character ‘\\’?__"
   ]
  },
  {
   "cell_type": "markdown",
   "id": "d8e52e5a-c68a-4d05-b658-f3da1c36c5ec",
   "metadata": {},
   "source": [
    "**Ans** = The special character \" \\ \" in Python is called the backslash or escape character. It is used to introduce special character sequences or escape sequences in strings and characters. The backslash is followed by another character to represent a special meaning or functionality."
   ]
  },
  {
   "cell_type": "markdown",
   "id": "c37bdff8-4c43-4584-8979-dc4ce0e159f6",
   "metadata": {},
   "source": [
    "**Q.7. Give an example of the following conditions:**\n",
    "    (i) Homogeneous list\n",
    "    (ii) Heterogeneous set\n",
    "    (iii) Homogeneous tuple"
   ]
  },
  {
   "cell_type": "code",
   "execution_count": 22,
   "id": "028c3f92-6cee-4ff2-8fb3-313f9ac20255",
   "metadata": {},
   "outputs": [
    {
     "name": "stdout",
     "output_type": "stream",
     "text": [
      "['apple', 'banana', 'cherry', 'mango']\n"
     ]
    }
   ],
   "source": [
    "# Homogeneneous list :\n",
    "fruits = [\"apple\", \"banana\", \"cherry\", \"mango\" ]\n",
    "print(fruits)"
   ]
  },
  {
   "cell_type": "code",
   "execution_count": 27,
   "id": "d01346a3-76f8-48fa-9cde-fb7edfe9d25b",
   "metadata": {},
   "outputs": [
    {
     "name": "stdout",
     "output_type": "stream",
     "text": [
      "{'cat', 1, (5, 6, 7), 0}\n"
     ]
    }
   ],
   "source": [
    "# Heterogeneous set :\n",
    "mixed_list = {1, \"cat\", 0 , (5, 6, 7)}\n",
    "print(mixed_list)\n"
   ]
  },
  {
   "cell_type": "code",
   "execution_count": 28,
   "id": "c7425fd9-2b91-404a-91ed-48b816eaa13d",
   "metadata": {},
   "outputs": [
    {
     "name": "stdout",
     "output_type": "stream",
     "text": [
      "(1, 2, 3, 4, 5)\n"
     ]
    }
   ],
   "source": [
    "# Homogeneous tuple :\n",
    "my_tuple = (1, 2, 3, 4, 5)\n",
    "print(my_tuple)\n",
    "\n"
   ]
  },
  {
   "cell_type": "markdown",
   "id": "8a5375c3-b0f6-4946-ae08-0f1e1696ddd9",
   "metadata": {},
   "source": [
    "__Q.8. Explain the mutable and immutable data types with proper explanation & examples.__"
   ]
  },
  {
   "cell_type": "markdown",
   "id": "3fe864eb-2a1e-4713-9f56-7724e7e5f567",
   "metadata": {},
   "source": [
    "**Ans** = <code>Immutable Data Types</code>: Immutable data types are those whose values cannot be modified once they are assigned. If any operation is performed on an immutable object that appears to modify it, it actually creates a new object with the updated value. Examples of immutable data types in Python include:\n",
    "\n",
    "     Numbers: int, float, complex\n",
    "     Strings: str\n",
    "     Tuples: tuple\n",
    "\n"
   ]
  },
  {
   "cell_type": "code",
   "execution_count": 30,
   "id": "211b316f-17df-4f90-9eb5-0f7e4b4a456a",
   "metadata": {},
   "outputs": [
    {
     "name": "stdout",
     "output_type": "stream",
     "text": [
      "Hello\n",
      "Hello, World!\n"
     ]
    }
   ],
   "source": [
    "result = \"Hello\"\n",
    "print(result)  # Output: Hello\n",
    "\n",
    "result = result + \", World!\"\n",
    "print(result)  # Output: Hello, World!"
   ]
  },
  {
   "cell_type": "markdown",
   "id": "0641cd91-675f-4c3c-aee8-9fcf516d5b75",
   "metadata": {},
   "source": [
    "<code>Mutable Data Types</code>: Mutable data types are those whose values can be modified after they are assigned. You can modify mutable objects directly, and any changes made to the object will affect its original value. Examples of mutable data types in Python include:\n",
    "\n",
    "        Lists: list\n",
    "        Sets: set\n",
    "        Dictionaries: dict"
   ]
  },
  {
   "cell_type": "code",
   "execution_count": 33,
   "id": "8ce56ba6-3843-4f20-acd7-780ff97aa577",
   "metadata": {},
   "outputs": [
    {
     "name": "stdout",
     "output_type": "stream",
     "text": [
      "[1, 2, 3, 4, 5]\n",
      "[1, 2, 3, 4, 5, 88]\n",
      "[90, 2, 3, 4, 5, 88]\n"
     ]
    }
   ],
   "source": [
    "numbers = [1, 2, 3, 4, 5]\n",
    "print(numbers)  # Output: [1, 2, 3, 4, 5]\n",
    "\n",
    "numbers.append(88)\n",
    "print(numbers)  # Output: [1, 2, 3, 4, 5, 6]\n",
    "\n",
    "numbers[0] = 90\n",
    "print(numbers)  # Output: [10, 2, 3, 4, 5, 6]"
   ]
  },
  {
   "cell_type": "markdown",
   "id": "98686481-3955-474b-8b2e-c76919d252da",
   "metadata": {},
   "source": [
    "__Q.9. Write a code to create the given structure using only for loop.__\n",
    "           \n",
    "           \n",
    "        *\n",
    "       ***\n",
    "      *****\n",
    "     *******\n",
    "    *********"
   ]
  },
  {
   "cell_type": "code",
   "execution_count": 37,
   "id": "683460a7-07c9-4aa5-9255-66d466075dc7",
   "metadata": {},
   "outputs": [
    {
     "name": "stdout",
     "output_type": "stream",
     "text": [
      "      *\n",
      "     ***\n",
      "    *****\n",
      "   *******\n",
      "  *********\n"
     ]
    }
   ],
   "source": [
    "rows = 5\n",
    "\n",
    "for i in range(rows):\n",
    "    \n",
    "    for j in range( rows - i + 1):\n",
    "        print(\" \", end=\"\")\n",
    "\n",
    "    # Print asterisks\n",
    "    for k in range( 2* i + 1):\n",
    "        print(\"*\", end=\"\")\n",
    "    print()"
   ]
  },
  {
   "cell_type": "markdown",
   "id": "8095c446-0acc-4f75-97ad-a1eb21825cb5",
   "metadata": {},
   "source": [
    "__Q.10. Write a code to create the given structure using while loop.__\n",
    "        \n",
    "        |||||||||\n",
    "         |||||||\n",
    "          |||||\n",
    "           |||\n",
    "            |"
   ]
  },
  {
   "cell_type": "code",
   "execution_count": 43,
   "id": "32f65ec0-18c0-429c-a04b-d701f540d7c1",
   "metadata": {},
   "outputs": [
    {
     "name": "stdout",
     "output_type": "stream",
     "text": [
      "|||||||||\n",
      " |||||||\n",
      "  |||||\n",
      "   |||\n",
      "    |\n"
     ]
    }
   ],
   "source": [
    "rows = 5\n",
    "spaces = 0\n",
    "asterisks = rows * 2 - 1\n",
    "\n",
    "while rows > 0:\n",
    "    # Print spaces\n",
    "    i = 0\n",
    "    while i < spaces:\n",
    "        print(\" \", end=\"\")\n",
    "        i += 1\n",
    "\n",
    "    # Print asterisks\n",
    "    i = 0\n",
    "    while i < asterisks:\n",
    "        print(\"|\", end=\"\")\n",
    "        i += 1\n",
    "\n",
    "    # Move to the next line\n",
    "    print()\n",
    "\n",
    "    spaces += 1\n",
    "    asterisks -= 2\n",
    "    rows -= 1"
   ]
  },
  {
   "cell_type": "code",
   "execution_count": null,
   "id": "c4e8895d-43d1-4e2e-883d-e0997a6001d0",
   "metadata": {},
   "outputs": [],
   "source": []
  }
 ],
 "metadata": {
  "kernelspec": {
   "display_name": "Python 3 (ipykernel)",
   "language": "python",
   "name": "python3"
  },
  "language_info": {
   "codemirror_mode": {
    "name": "ipython",
    "version": 3
   },
   "file_extension": ".py",
   "mimetype": "text/x-python",
   "name": "python",
   "nbconvert_exporter": "python",
   "pygments_lexer": "ipython3",
   "version": "3.10.6"
  }
 },
 "nbformat": 4,
 "nbformat_minor": 5
}

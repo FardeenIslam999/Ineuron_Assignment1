{
 "cells": [
  {
   "cell_type": "markdown",
   "id": "7aa4dab5-5f2e-46a9-886a-a54373817ec1",
   "metadata": {},
   "source": [
    "Q1 What are the two values of the Boolean data type? How do you write them?"
   ]
  },
  {
   "cell_type": "code",
   "execution_count": 3,
   "id": "b1a968ec-c62a-4560-ba49-82058a3d7788",
   "metadata": {},
   "outputs": [
    {
     "name": "stdout",
     "output_type": "stream",
     "text": [
      "True\n"
     ]
    }
   ],
   "source": [
    "Ans = \"The boolean data type value can be of two types only i.e. either True or False.For Example:-\"\n",
    "a = 10\n",
    "if a == 10:\n",
    "    print('True')\n",
    "else:\n",
    "    print('False')"
   ]
  },
  {
   "cell_type": "markdown",
   "id": "bed47444-5fff-4f9d-a398-92782a2c14d4",
   "metadata": {},
   "source": [
    "Q2 What are the three different types of Boolean operators?"
   ]
  },
  {
   "cell_type": "markdown",
   "id": "db8800de-9772-436d-b530-1b197394d69a",
   "metadata": {},
   "source": [
    "Ans = The three different types of Boolean operators are :-\n",
    "\n",
    "\n",
    "         A) Logical AND/and\n",
    "         B) Logical OR/or\n",
    "         C) Logical NOT/not"
   ]
  },
  {
   "cell_type": "markdown",
   "id": "87a08d70-4fb7-4019-a8c1-c5865c954eea",
   "metadata": {},
   "source": [
    "Q3 Make a list of each Boolean operator's truth tables (i.e. every possible combination of Boolean values for the operator and what it evaluate )."
   ]
  },
  {
   "cell_type": "code",
   "execution_count": 13,
   "id": "91812ce1-4fe2-4aff-a3a5-5893897999ac",
   "metadata": {},
   "outputs": [
    {
     "name": "stdout",
     "output_type": "stream",
     "text": [
      "AND OPERATION\n",
      " A  B O/P\n",
      "[0, 0, 0]\n",
      "[0, 1, 0]\n",
      "[1, 0, 0]\n",
      "[1, 1, 1]\n",
      "\n",
      "OR OPERATION\n",
      " A  B O/P\n",
      "[0, 0, 0]\n",
      "[0, 1, 1]\n",
      "[1, 0, 1]\n",
      "[1, 1, 1]\n",
      "\n",
      "NOT OPERATION\n",
      " A O/P\n",
      "[0, 1]\n",
      "[1, 0]\n"
     ]
    }
   ],
   "source": [
    "and_list = [[0,0,0],[0,1,0],[1,0,0], [1,1,1]]\n",
    "print(\"AND OPERATION\\n A  B O/P\")\n",
    "for i in and_list:\n",
    "            print(i)\n",
    "\n",
    "or_list = [[0,0,0],[0,1,1],[1,0,1], [1,1,1]]\n",
    "print(\"\\nOR OPERATION\\n A  B O/P\")\n",
    "for i in or_list:\n",
    "            print(i)\n",
    "\n",
    "or_list = [[0,1],[1,0]]\n",
    "print(\"\\nNOT OPERATION\\n A O/P\")\n",
    "for i in or_list:\n",
    "            print(i)\n"
   ]
  },
  {
   "cell_type": "markdown",
   "id": "2827d2a7-4de5-473a-99ad-4845ba325395",
   "metadata": {},
   "source": [
    "Q4 What are the values of the following expressions?\n",
    "\n",
    "\n",
    "- (5 > 4) and (3 == 5) \n",
    "\n",
    "- not (5 > 4)\n",
    "\n",
    "- (5 > 4) or (3 == 5)\n",
    "\n",
    "- not ((5 > 4) or (3 == 5))\n",
    "\n",
    "- (True and True) and (True == False)\n",
    "\n",
    "- (not False) or (not True)"
   ]
  },
  {
   "cell_type": "code",
   "execution_count": 5,
   "id": "9b3e98e2-3d10-4fc2-84f7-dc41a2d01cad",
   "metadata": {},
   "outputs": [
    {
     "name": "stdout",
     "output_type": "stream",
     "text": [
      "(5 > 4) and (3 == 5)                --> False\n",
      "not (5 > 4)                         --> False\n",
      "(5 > 4) or (3 == 5)                 --> True\n",
      "not ((5 > 4) or (3 == 5))           --> False\n",
      "(True and True) and (True == False) --> False\n",
      "(not False) or (not True)           --> True\n"
     ]
    }
   ],
   "source": [
    " \n",
    "print(f\"(5 > 4) and (3 == 5)                --> {(5 > 4) and (3 == 5)}\")\n",
    "print(f\"not (5 > 4)                         --> {not (5 > 4)}\")\n",
    "print(f\"(5 > 4) or (3 == 5)                 --> {(5 > 4) or (3 == 5)}\")\n",
    "print(f\"not ((5 > 4) or (3 == 5))           --> {not ((5 > 4) or (3 == 5))}\")\n",
    "print(f\"(True and True) and (True == False) --> {(True and True) and (True == False)}\")\n",
    "print(f\"(not False) or (not True)           --> {(not False) or (not True)}\")"
   ]
  },
  {
   "cell_type": "markdown",
   "id": "3f3434e5-79a9-41c9-81ca-a98eab6cb2c3",
   "metadata": {},
   "source": [
    "Q5 What are the six comparison operators?"
   ]
  },
  {
   "cell_type": "markdown",
   "id": "1e58d914-a281-40ca-a0cd-ce473028c5d1",
   "metadata": {},
   "source": [
    "Ans =     six comparison operators are :-\n",
    "                    \n",
    "             a) ==    # Equal to, Output: False\n",
    "             b) !=    # Not equal to, Output: True\n",
    "             c) >     # Greater than, Output: False\n",
    "             d) <     # Less than, Output: True\n",
    "             e) >=    # Greater than or equal to, Output: False\n",
    "             f) <=    # Less than or equal to, Output: True"
   ]
  },
  {
   "cell_type": "markdown",
   "id": "65430dcb-5755-4a69-881c-eba2cb66acf3",
   "metadata": {},
   "source": [
    "Q6 How do you tell the difference between the equal to and assignment operators?\n",
    "Describe a condition and when you would use one."
   ]
  },
  {
   "cell_type": "markdown",
   "id": "6328896c-0493-4d2f-8365-ab39d7ae9ceb",
   "metadata": {},
   "source": [
    "Ans = The Basic Difference between the Equal to Operator and the Assignment Operator are as follows :-\n",
    "\n",
    "        A) Equal to Operator is double equal to symbol (==) where as Assignment Operator has single equal to symbol (=).\n",
    "\n",
    "        B)Equal to Operator is used for comparision purpose Whereas Assignment Operator is used for assigning values to the Variable"
   ]
  },
  {
   "cell_type": "code",
   "execution_count": 6,
   "id": "4c76c063-0581-4b2d-a8ca-a1682ccf931e",
   "metadata": {},
   "outputs": [
    {
     "name": "stdout",
     "output_type": "stream",
     "text": [
      "True\n"
     ]
    }
   ],
   "source": [
    "a = 10 # Assignment Operator Statement\n",
    "\n",
    "# This is example of Equal to Operator\n",
    "if a == 10:\n",
    "    print('True')\n",
    "else:\n",
    "    print('False')"
   ]
  },
  {
   "cell_type": "markdown",
   "id": "5e16ab00-cb1d-464e-8cb6-c8cb4d5f5f77",
   "metadata": {},
   "source": [
    "Q7 Identify the three blocks in this code:\n",
    "\n",
    "         spam = 0\n",
    "       if spam == 10:\n",
    "         print(\"eggs\")\n",
    "\n",
    "       if spam > 5:\n",
    "         print(\"bacon\")\n",
    "       else:\n",
    "        print(\"ham\")\n",
    "        print(\"spam\")\n",
    "        print(\"spam\")"
   ]
  },
  {
   "cell_type": "code",
   "execution_count": 7,
   "id": "2f041e89-178d-4dbd-88c0-4b51237f575e",
   "metadata": {},
   "outputs": [
    {
     "name": "stdout",
     "output_type": "stream",
     "text": [
      "ham\n",
      "spam\n",
      "spam\n"
     ]
    }
   ],
   "source": [
    "# FIRST BLOCK OF CODE\n",
    "spam = 0              # Assignment Operation \n",
    "\n",
    "# SECOND BLOCK OF CODE\n",
    "\n",
    "if spam == 10:        # If Condition\n",
    "    print(\"eggs\")  \n",
    "\n",
    "# THIRD BLOCK OF CODE\n",
    "\n",
    "if spam > 5:          # IF-ELSE Condition \n",
    "    print(\"bacon\")\n",
    "else:\n",
    "    print(\"ham\")\n",
    "    print(\"spam\")\n",
    "    print(\"spam\")"
   ]
  },
  {
   "cell_type": "markdown",
   "id": "8bf13e92-640a-451e-a149-60a889bb4621",
   "metadata": {},
   "source": [
    "Q8 Write code that\n",
    "\n",
    "      prints Hello if 1 is stored in spam, \n",
    "\n",
    "      prints Howdy if 2 is stored in spam, \n",
    "\n",
    "      and prints Greetings! if anything else is stored in spam."
   ]
  },
  {
   "cell_type": "code",
   "execution_count": 4,
   "id": "9fec9661-3560-4a5f-aed6-b757d8c075dc",
   "metadata": {},
   "outputs": [
    {
     "name": "stdin",
     "output_type": "stream",
     "text": [
      "Enter your number: 5\n"
     ]
    },
    {
     "name": "stdout",
     "output_type": "stream",
     "text": [
      "Greetings!\n"
     ]
    }
   ],
   "source": [
    "Spam = int(input(\"Enter your number:\"))\n",
    "\n",
    "if Spam == 1:\n",
    "    print(\"Hello\")\n",
    "if Spam == 2:\n",
    "    print(\"Howdy\")\n",
    "else:\n",
    "    print(\"Greetings!\")"
   ]
  },
  {
   "cell_type": "markdown",
   "id": "989f4ccd-e0a3-4ce9-9d13-abdf1704203a",
   "metadata": {},
   "source": [
    "9.If your programme is stuck in an endless loop, what keys you’ll press?"
   ]
  },
  {
   "cell_type": "markdown",
   "id": "d2157383-dfef-46be-8c0c-8fe975a5e998",
   "metadata": {},
   "source": [
    "Ans = we have to press ctrl + C loop keys or we can type while text ! = \"quit\"."
   ]
  },
  {
   "cell_type": "markdown",
   "id": "05463955-f831-4fcd-8896-7d9b9ac272dc",
   "metadata": {},
   "source": [
    "Q10 How can you tell the difference between break and continue?"
   ]
  },
  {
   "cell_type": "markdown",
   "id": "37234b07-fcf6-449e-9afe-caf9bb2e8db0",
   "metadata": {},
   "source": [
    "Ans = \n",
    "                     \n",
    "    Break:statement breaks or leave the execution of the conditional loop execution.\n",
    "\n",
    "    Continue: When continue comes in the conditional loop, it leaves the current iteration values for execution BUT continues from the next iterable object"
   ]
  },
  {
   "cell_type": "code",
   "execution_count": 14,
   "id": "8580930e-e3d2-4618-96c5-c2300c24cb46",
   "metadata": {},
   "outputs": [
    {
     "name": "stdout",
     "output_type": "stream",
     "text": [
      " Value of i = 1\n",
      " Value of i = 2\n",
      " Value of i = 3\n",
      " Value of i = 4\n"
     ]
    }
   ],
   "source": [
    "list_break = [1,2,3,4,5,6]\n",
    "\n",
    "for i in list_break:\n",
    "    if i == 5:\n",
    "        break\n",
    "    else:\n",
    "        print(f\" Value of i = {i}\")"
   ]
  },
  {
   "cell_type": "code",
   "execution_count": 15,
   "id": "ee87a4f0-9ac7-4b67-af44-d65652d0d07d",
   "metadata": {},
   "outputs": [
    {
     "name": "stdout",
     "output_type": "stream",
     "text": [
      "Value of i = 1\n",
      "Value of i = 2\n",
      "Value of i = 4\n",
      "Value of i = 5\n",
      "Value of i = 6\n"
     ]
    }
   ],
   "source": [
    "list_continue = [1,2,3,4,5,6]\n",
    "\n",
    "for i in list_continue :\n",
    "    if i == 3:\n",
    "        continue\n",
    "    else:\n",
    "        print(f\"Value of i = {i}\")"
   ]
  },
  {
   "cell_type": "markdown",
   "id": "ce7bdca6-69c0-453e-821f-c3ff326b633e",
   "metadata": {},
   "source": [
    "Q11 In a for loop, what is the difference between range(10), range(0, 10), and range(0, 10, 1)?"
   ]
  },
  {
   "cell_type": "markdown",
   "id": "4f181559-ee5e-43a8-ad9e-1b0aacc32668",
   "metadata": {},
   "source": [
    "Ans = The difference between range(10), range(0, 10), and range(0, 10, 1) can be seen as -\n",
    "        \n",
    "        range(10)       # Stop\n",
    "        range(0, 10)    # Start , Stop\n",
    "        range(0, 10, 1) # Start , Stop , Step\n",
    "        \n",
    "    Point to be noted :-  \"If No start value is provided to the range parameter By Default \"0\" is considered as the initial value Also, if no Step value is provided to the range parameter By Default 1 is considered as the jump value\"\n",
    "        "
   ]
  },
  {
   "cell_type": "markdown",
   "id": "18c2b03b-ba76-4640-9904-02c7f926ff99",
   "metadata": {},
   "source": [
    "Q12 Write a short program that prints the numbers 1 to 10 using a for loop. Then write an equivalent program that prints the numbers 1 to 10 using a while loop"
   ]
  },
  {
   "cell_type": "code",
   "execution_count": 10,
   "id": "5eb14c31-3a5d-4811-8e5a-0d2dd987dcb2",
   "metadata": {},
   "outputs": [
    {
     "name": "stdout",
     "output_type": "stream",
     "text": [
      "FOR LOOP\n",
      "0\n",
      "1\n",
      "2\n",
      "3\n",
      "4\n",
      "5\n",
      "6\n",
      "7\n",
      "8\n",
      "9\n",
      "WHILE LOOP\n",
      "0\n",
      "1\n",
      "2\n",
      "3\n",
      "4\n",
      "5\n",
      "6\n",
      "7\n",
      "8\n",
      "9\n"
     ]
    }
   ],
   "source": [
    " print('FOR LOOP')\n",
    "for i in range(10):\n",
    "    print(i)\n",
    "\n",
    "print('WHILE LOOP')\n",
    "a=0\n",
    "while a < 10:\n",
    "    print(a)\n",
    "    a+=1"
   ]
  },
  {
   "cell_type": "markdown",
   "id": "c4269319-fd35-4e45-b9c8-73c90e8f9e82",
   "metadata": {},
   "source": [
    "Q13 If you had a function named bacon() inside a module named spam, how would you call it after importing spam?"
   ]
  },
  {
   "cell_type": "markdown",
   "id": "5a56db37-5bb9-4263-9268-a2b298dc1627",
   "metadata": {},
   "source": [
    "Ans = # Frist type :-\n",
    "         \n",
    "         Import spam\n",
    "      \n",
    "      # After importing the module :-\n",
    "      \n",
    "      result = spam.Bacon()"
   ]
  }
 ],
 "metadata": {
  "kernelspec": {
   "display_name": "Python 3 (ipykernel)",
   "language": "python",
   "name": "python3"
  },
  "language_info": {
   "codemirror_mode": {
    "name": "ipython",
    "version": 3
   },
   "file_extension": ".py",
   "mimetype": "text/x-python",
   "name": "python",
   "nbconvert_exporter": "python",
   "pygments_lexer": "ipython3",
   "version": "3.10.6"
  }
 },
 "nbformat": 4,
 "nbformat_minor": 5
}

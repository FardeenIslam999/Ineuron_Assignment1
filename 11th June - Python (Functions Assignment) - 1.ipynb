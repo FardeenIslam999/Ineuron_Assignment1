{
 "cells": [
  {
   "cell_type": "markdown",
   "id": "4b5785c4",
   "metadata": {},
   "source": [
    "## 11th June - Python (Functions Assignment) - 1"
   ]
  },
  {
   "cell_type": "markdown",
   "id": "0ffe3a66",
   "metadata": {},
   "source": [
    "__1. What is a lambda function in Python, and how does it differ from a regular function?__"
   ]
  },
  {
   "cell_type": "markdown",
   "id": "ee372197",
   "metadata": {},
   "source": [
    "**Ans:** In Python, a lambda function is a small, anonymous function defined using the 'lambda' keyword. It allows you to create functions without explicitly defining a function using the def keyword. Lambda functions are typically used for simple, one-line operations and are often passed as arguments to higher-order functions or used in situations where a named function is not required.\n",
    "\n",
    "   <code>**lambda arguments: expression**</code>\n",
    "\n",
    "   Lambda functions differ from regular functions in a few key ways:\n",
    "\n",
    "   1.<code>**Anonymous**</code>: Lambda functions are anonymous, meaning they are not explicitly named like regular functions. They are created on-the-fly and can be used immediately.\n",
    "\n",
    "   2.<code>**Single Expression**</code>: Lambda functions are restricted to a single expression, unlike regular functions that can have multiple statements and a function body. The expression is evaluated and the result is returned automatically.\n",
    "\n",
    "   3.<code>**Concise Syntax**</code>: The syntax for lambda functions is more concise compared to regular functions, making them useful for simple and short operations.\n",
    "\n",
    "   4.<code>**No Statements**</code>: Lambda functions cannot contain statements or assignments. They are limited to single expressions."
   ]
  },
  {
   "cell_type": "code",
   "execution_count": 2,
   "id": "d44c59ef",
   "metadata": {},
   "outputs": [
    {
     "name": "stdout",
     "output_type": "stream",
     "text": [
      "178\n",
      "178\n"
     ]
    }
   ],
   "source": [
    "# Regular Function\n",
    "def add(x, y):\n",
    "    return x + y\n",
    "\n",
    "# Lambda Function\n",
    "add_lambda = lambda x, y: x + y\n",
    "\n",
    "# Calling the functions\n",
    "print(add(93, 85))\n",
    "print(add_lambda(93, 85))"
   ]
  },
  {
   "cell_type": "markdown",
   "id": "91a58215",
   "metadata": {},
   "source": [
    "**2. Can a lambda function in Python have multiple arguments? If yes, how can you define and use them?**"
   ]
  },
  {
   "cell_type": "markdown",
   "id": "e91772e7",
   "metadata": {},
   "source": [
    "**Ans**: Python lambda can be used with multiple arguments and these arguments are used in evaluating an expression to return a single value. A Python lambda function is used to execute an anonymous function, an anonymous meaning function without a name."
   ]
  },
  {
   "cell_type": "code",
   "execution_count": 4,
   "id": "76b3d1e2",
   "metadata": {},
   "outputs": [
    {
     "name": "stdout",
     "output_type": "stream",
     "text": [
      "81\n"
     ]
    }
   ],
   "source": [
    "# Lambda example with single argument\n",
    "square = lambda x: x * x\n",
    "print(square(9))"
   ]
  },
  {
   "cell_type": "code",
   "execution_count": 5,
   "id": "dd97740a",
   "metadata": {},
   "outputs": [
    {
     "name": "stdout",
     "output_type": "stream",
     "text": [
      "30\n"
     ]
    }
   ],
   "source": [
    "# Lambda example with two arguments\n",
    "add = lambda x, y : x + y\n",
    "print(add(10, 20)) "
   ]
  },
  {
   "cell_type": "code",
   "execution_count": 6,
   "id": "7b5a2394",
   "metadata": {},
   "outputs": [
    {
     "name": "stdout",
     "output_type": "stream",
     "text": [
      "[3, 7, 7, 8, 7]\n"
     ]
    }
   ],
   "source": [
    "# Create two lists with numbers \n",
    "numbers1 = [2, 4, 5, 6, 3]\n",
    "numbers2 = [1, 3, 2, 2, 4]\n",
    "\n",
    "# Create lambda function that takes two arguments\n",
    "add_fun = lambda x, y: x+y\n",
    "\n",
    "# Use lambda with map() function\n",
    "add_result = list(map(add_fun, numbers1, numbers2))\n",
    "print(add_result) "
   ]
  },
  {
   "cell_type": "markdown",
   "id": "71dbad56",
   "metadata": {},
   "source": [
    "**3. How are lambda functions typically used in Python? Provide an example use case.**"
   ]
  },
  {
   "cell_type": "markdown",
   "id": "d752b282",
   "metadata": {},
   "source": [
    "**Ans**: Lambda functions in Python are anonymous functions, which means they are functions without a name. They are created using the lambda keyword and are often used for short, simple operations. Lambda functions are particularly useful when you need a small function for a short period and don't want to formally define a separate function using the def keyword."
   ]
  },
  {
   "cell_type": "code",
   "execution_count": 7,
   "id": "c442e017",
   "metadata": {},
   "outputs": [
    {
     "name": "stdout",
     "output_type": "stream",
     "text": [
      "8\n",
      "8\n"
     ]
    }
   ],
   "source": [
    "# Regular Function\n",
    "def add(x, y):\n",
    "    return x + y\n",
    "\n",
    "# Lambda Function\n",
    "add_lambda = lambda x, y: x + y\n",
    "\n",
    "# Calling the functions\n",
    "print(add(3, 5))\n",
    "print(add_lambda(3, 5))"
   ]
  },
  {
   "cell_type": "markdown",
   "id": "014b4f93",
   "metadata": {},
   "source": [
    "**4. What are the advantages and limitations of lambda functions compared to regular functions in Python?**"
   ]
  },
  {
   "cell_type": "markdown",
   "id": "b2d91279",
   "metadata": {},
   "source": [
    "**Ans**: Lambda functions in Python offer several advantages and have certain limitations when compared to regular functions. Let's explore them:"
   ]
  },
  {
   "cell_type": "markdown",
   "id": "166d8822",
   "metadata": {},
   "source": [
    "   Advantages of Lambda Functions:\n",
    "\n",
    "<code>**Concise Syntax**</code>: Lambda functions have a compact syntax, allowing you to define small, one-line functions without the need for a formal function definition using the def keyword. This can make code more readable and reduce the number of lines.\n",
    "\n",
    "<code>**Anonymous Functions**</code>: Lambda functions are anonymous, meaning they do not require a specific name. They can be created on-the-fly and passed directly as arguments to higher-order functions. This is useful in situations where a function is needed temporarily or for a specific purpose.\n",
    "\n",
    "<code>**Higher-Order Functions**</code>: Lambda functions are commonly used in conjunction with higher-order functions like filter(), map(), and reduce(). They can be used to provide custom logic or transformations to these functions without defining a separate named function.\n",
    "\n",
    "Limitations of Lambda Functions:\n",
    "\n",
    "<code>**Single Expression**</code>: Lambda functions are limited to a single expression, which means they cannot contain multiple statements or complex logic. They are best suited for simple operations and calculations.\n",
    "\n",
    "<code>**No Statements or Assignments**</code>: Lambda functions cannot contain statements or assignments, such as if statements or variable assignments. They are restricted to evaluating an expression and returning the result.\n",
    "\n",
    "<code>**Limited Readability**</code>: While lambda functions can make code more concise, they can also make it harder to understand and debug if they become too complex or contain intricate logic. In such cases, using a regular named function with a well-defined function body may be more readable and maintainable.\n",
    "\n",
    "<code>**Limited Reusability**</code>: Lambda functions are primarily intended for one-time use and are not designed for reuse across multiple parts of the code. Regular functions, on the other hand, can be defined once and called from different parts of the program, promoting code reuse and modularity."
   ]
  },
  {
   "cell_type": "markdown",
   "id": "e0f05879",
   "metadata": {},
   "source": [
    "**5. Are lambda functions in Python able to access variables defined outside of their own scope? Explain with an example.**"
   ]
  },
  {
   "cell_type": "markdown",
   "id": "b534a0dc",
   "metadata": {},
   "source": [
    "**Ans**: Yes, lambda functions in Python can access variables defined outside of their own scope. This concept is known as \"lexical scoping\" or \"closure\" in Python. Lambda functions can access variables from the surrounding scope in which they are defined, including global variables and variables defined in an enclosing function."
   ]
  },
  {
   "cell_type": "code",
   "execution_count": 10,
   "id": "0097fe1d",
   "metadata": {},
   "outputs": [
    {
     "name": "stdout",
     "output_type": "stream",
     "text": [
      "74\n"
     ]
    }
   ],
   "source": [
    "def outer_function():\n",
    "    x = 10\n",
    "    \n",
    "    # Lambda function accessing the variable x from its enclosing scope\n",
    "    square = lambda num: num ** 2 + x\n",
    "    \n",
    "    return square\n",
    "\n",
    "# Calling the outer function and assigning the returned lambda function\n",
    "square_fn = outer_function()\n",
    "\n",
    "# Using the returned lambda function\n",
    "result = square_fn(8)\n",
    "print(result)"
   ]
  },
  {
   "cell_type": "markdown",
   "id": "98ea21df",
   "metadata": {},
   "source": [
    "**6. Write a lambda function to calculate the square of a given number.**"
   ]
  },
  {
   "cell_type": "markdown",
   "id": "36b3bd40",
   "metadata": {},
   "source": [
    "**Ans**:"
   ]
  },
  {
   "cell_type": "code",
   "execution_count": 12,
   "id": "e4c5557d",
   "metadata": {},
   "outputs": [
    {
     "data": {
      "text/plain": [
       "15625"
      ]
     },
     "execution_count": 12,
     "metadata": {},
     "output_type": "execute_result"
    }
   ],
   "source": [
    "square = lambda x: x ** 6\n",
    "square(5)"
   ]
  },
  {
   "cell_type": "markdown",
   "id": "d512923d",
   "metadata": {},
   "source": [
    "**7. Create a lambda function to find the maximum value in a list of integers.**"
   ]
  },
  {
   "cell_type": "markdown",
   "id": "a8e2879e",
   "metadata": {},
   "source": [
    "**Ans**:"
   ]
  },
  {
   "cell_type": "code",
   "execution_count": 14,
   "id": "921289a7",
   "metadata": {},
   "outputs": [
    {
     "data": {
      "text/plain": [
       "10"
      ]
     },
     "execution_count": 14,
     "metadata": {},
     "output_type": "execute_result"
    }
   ],
   "source": [
    "max_value = lambda lst: max(lst)\n",
    "numbers = [5, 8, 2, 10, 3]\n",
    "max_value(numbers)"
   ]
  },
  {
   "cell_type": "markdown",
   "id": "50b7be5e",
   "metadata": {},
   "source": [
    "**8. Implement a lambda function to filter out all the even numbers from a list of integers.**"
   ]
  },
  {
   "cell_type": "markdown",
   "id": "d124d616",
   "metadata": {},
   "source": [
    "**Ans**:"
   ]
  },
  {
   "cell_type": "code",
   "execution_count": 2,
   "id": "f636a5b8",
   "metadata": {},
   "outputs": [
    {
     "data": {
      "text/plain": [
       "[2, 4, 6, 8, 10]"
      ]
     },
     "execution_count": 2,
     "metadata": {},
     "output_type": "execute_result"
    }
   ],
   "source": [
    "even_numbers = lambda lst: list(filter(lambda x: x % 2 == 0, lst))\n",
    "numbers = [1, 2, 3, 4, 5, 6, 7, 8, 9, 10]\n",
    "even_numbers(numbers)"
   ]
  },
  {
   "cell_type": "markdown",
   "id": "905c0ea5",
   "metadata": {},
   "source": [
    "**9. Write a lambda function to sort a list of strings in ascending order based on the length of each string.**"
   ]
  },
  {
   "cell_type": "code",
   "execution_count": 3,
   "id": "7d4bd011",
   "metadata": {},
   "outputs": [
    {
     "data": {
      "text/plain": [
       "['pear', 'kiwi', 'apple', 'banana', 'orange']"
      ]
     },
     "execution_count": 3,
     "metadata": {},
     "output_type": "execute_result"
    }
   ],
   "source": [
    "sort_strings_by_length = lambda lst: sorted(lst, key=lambda x: len(x))\n",
    "strings = ['apple', 'banana', 'pear', 'kiwi', 'orange']\n",
    "sort_strings_by_length(strings)"
   ]
  },
  {
   "cell_type": "markdown",
   "id": "39ed92c6",
   "metadata": {},
   "source": [
    "**10. Create a lambda function that takes two lists as input and returns a new list containing the common elements between the two lists.**"
   ]
  },
  {
   "cell_type": "code",
   "execution_count": 4,
   "id": "2d7882c7",
   "metadata": {},
   "outputs": [
    {
     "data": {
      "text/plain": [
       "[1, 2, 3]"
      ]
     },
     "execution_count": 4,
     "metadata": {},
     "output_type": "execute_result"
    }
   ],
   "source": [
    "find_common_elements = lambda list1, list2: list(filter(lambda x: x in list2, list1))\n",
    "list1 = [1, 2, 3, 4, 5, 6]\n",
    "list2 = [9, 3, 2, 8, 9, 1]\n",
    "find_common_elements(list1, list2)"
   ]
  },
  {
   "cell_type": "markdown",
   "id": "dd4ecfc5",
   "metadata": {},
   "source": [
    "**11. Write a recursive function to calculate the factorial of a given positive integer.**"
   ]
  },
  {
   "cell_type": "code",
   "execution_count": 6,
   "id": "65205468",
   "metadata": {},
   "outputs": [
    {
     "name": "stdout",
     "output_type": "stream",
     "text": [
      "5040\n"
     ]
    }
   ],
   "source": [
    "def factorial(n):\n",
    "    if n == 0 or n == 1:\n",
    "        return 1\n",
    "    else:\n",
    "        return n * factorial(n - 1)\n",
    "\n",
    "result = factorial(7)\n",
    "print(result)"
   ]
  },
  {
   "cell_type": "markdown",
   "id": "5c057d2b",
   "metadata": {},
   "source": [
    "**12. Implement a recursive function to compute the nth Fibonacci number.**\n"
   ]
  },
  {
   "cell_type": "markdown",
   "id": "7feb49ac",
   "metadata": {},
   "source": [
    "**Ans**:"
   ]
  },
  {
   "cell_type": "code",
   "execution_count": 7,
   "id": "a2e43d48",
   "metadata": {},
   "outputs": [
    {
     "name": "stdout",
     "output_type": "stream",
     "text": [
      "1\n"
     ]
    }
   ],
   "source": [
    "def fibonacci(n):\n",
    "    if n <= 0:\n",
    "        return None\n",
    "    elif n == 7 or n == 8:\n",
    "        return 1\n",
    "    else:\n",
    "        return fibonacci(n - 1) + fibonacci(n - 2)\n",
    "\n",
    "result = fibonacci(7)\n",
    "print(result)\n"
   ]
  },
  {
   "cell_type": "markdown",
   "id": "b894b6d5",
   "metadata": {},
   "source": [
    "**13. Create a recursive function to find the sum of all the elements in a given list.**"
   ]
  },
  {
   "cell_type": "markdown",
   "id": "0337fb77",
   "metadata": {},
   "source": [
    "**Ans**:"
   ]
  },
  {
   "cell_type": "code",
   "execution_count": 8,
   "id": "8f54c2e4",
   "metadata": {},
   "outputs": [
    {
     "data": {
      "text/plain": [
       "26"
      ]
     },
     "execution_count": 8,
     "metadata": {},
     "output_type": "execute_result"
    }
   ],
   "source": [
    "def recursive_sum(lst):\n",
    "    if not lst:\n",
    "        return 0\n",
    "    else:\n",
    "        return lst[0] + recursive_sum(lst[1:])\n",
    "\n",
    "numbers = [9, 2, 3, 7, 5]\n",
    "recursive_sum(numbers)"
   ]
  },
  {
   "cell_type": "markdown",
   "id": "f4009f30",
   "metadata": {},
   "source": [
    "**14. Write a recursive function to determine whether a given string is a palindrome.**"
   ]
  },
  {
   "cell_type": "markdown",
   "id": "1ed3c1d6",
   "metadata": {},
   "source": [
    "**Ans**:"
   ]
  },
  {
   "cell_type": "code",
   "execution_count": 10,
   "id": "b3877dcb",
   "metadata": {},
   "outputs": [
    {
     "name": "stdout",
     "output_type": "stream",
     "text": [
      "False\n",
      "False\n"
     ]
    }
   ],
   "source": [
    "def is_palindrome(s):\n",
    "    if len(s) <= 1:\n",
    "        return True\n",
    "    elif s[0] != s[-1]:\n",
    "        return False\n",
    "    else:\n",
    "        return is_palindrome(s[1:-1])\n",
    "\n",
    "result1 = is_palindrome(\"procastination\")\n",
    "result2 = is_palindrome(\"hello\")\n",
    "print(result1)  # False\n",
    "print(result2)  # False"
   ]
  },
  {
   "cell_type": "markdown",
   "id": "263f1a5e",
   "metadata": {},
   "source": [
    "**15. Implement a recursive function to find the greatest common divisor (GCD) of two positive integers.**"
   ]
  },
  {
   "cell_type": "markdown",
   "id": "6a209199",
   "metadata": {},
   "source": [
    "**Ans**:"
   ]
  },
  {
   "cell_type": "code",
   "execution_count": 12,
   "id": "2730875d",
   "metadata": {},
   "outputs": [
    {
     "data": {
      "text/plain": [
       "1"
      ]
     },
     "execution_count": 12,
     "metadata": {},
     "output_type": "execute_result"
    }
   ],
   "source": [
    "def gcd(a, b):\n",
    "    if b == 0:\n",
    "        return a\n",
    "    else:\n",
    "        return gcd(b, a % b)\n",
    "\n",
    "gcd(33, 13)"
   ]
  },
  {
   "cell_type": "code",
   "execution_count": null,
   "id": "fb644de8",
   "metadata": {},
   "outputs": [],
   "source": []
  }
 ],
 "metadata": {
  "kernelspec": {
   "display_name": "Python 3 (ipykernel)",
   "language": "python",
   "name": "python3"
  },
  "language_info": {
   "codemirror_mode": {
    "name": "ipython",
    "version": 3
   },
   "file_extension": ".py",
   "mimetype": "text/x-python",
   "name": "python",
   "nbconvert_exporter": "python",
   "pygments_lexer": "ipython3",
   "version": "3.9.13"
  }
 },
 "nbformat": 4,
 "nbformat_minor": 5
}

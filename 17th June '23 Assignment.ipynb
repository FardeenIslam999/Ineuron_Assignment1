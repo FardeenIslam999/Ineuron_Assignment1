{
 "cells": [
  {
   "cell_type": "markdown",
   "id": "a043aed5",
   "metadata": {},
   "source": [
    "## Assignment"
   ]
  },
  {
   "cell_type": "markdown",
   "id": "aa7fd8a5",
   "metadata": {},
   "source": [
    "__1. What is the role of try and exception block?__"
   ]
  },
  {
   "cell_type": "markdown",
   "id": "5ce356c6",
   "metadata": {},
   "source": [
    "**Ans:** In Python, the \"try\" and \"except\" blocks are used for error handling and exception handling. They allow you to handle potential errors or exceptions that may occur during the execution of your code, ensuring that your program doesn't abruptly terminate but gracefully handles the error and continues execution.\n",
    "\n",
    "Using try and except blocks helps you handle exceptions gracefully, provide appropriate error messages, and control the flow of your program even in the presence of errors or unexpected situations."
   ]
  },
  {
   "cell_type": "code",
   "execution_count": 3,
   "id": "e5829e2a",
   "metadata": {},
   "outputs": [],
   "source": [
    "def askforint():\n",
    "    while True:\n",
    "        try :\n",
    "            a = int(input(\"enter an integer \"))\n",
    "        except FileNotFoundError as e :\n",
    "            print(\"this is my error msg \" , e )\n",
    "        except IOError as e :\n",
    "            print(e)\n",
    "        except ValueError as e :\n",
    "            print(e)\n",
    "        else :\n",
    "            print(\"person has entered a correct value \") \n",
    "            break\n",
    "        finally :\n",
    "            print(\"close this issue \")"
   ]
  },
  {
   "cell_type": "code",
   "execution_count": 4,
   "id": "16297ada",
   "metadata": {},
   "outputs": [
    {
     "name": "stdout",
     "output_type": "stream",
     "text": [
      "enter an integer 12\n",
      "person has entered a correct value \n",
      "close this issue \n"
     ]
    }
   ],
   "source": [
    "askforint()"
   ]
  },
  {
   "cell_type": "markdown",
   "id": "98155634",
   "metadata": {},
   "source": [
    "**2. What is the syntax for a basic try-except block?**"
   ]
  },
  {
   "cell_type": "markdown",
   "id": "09bec971",
   "metadata": {},
   "source": [
    "**Ans:** \n",
    "\n",
    "\n",
    "**try:**\n",
    "\n",
    "    # Code that may raise an exception\n",
    "    # ...\n",
    "**except ExceptionType:**\n",
    "\n",
    "    # Code to handle the exception\n",
    "    # ..."
   ]
  },
  {
   "cell_type": "markdown",
   "id": "c42fa5da",
   "metadata": {},
   "source": [
    "**3. What happens if an exception occurs inside a try block and there is no matching except block?**"
   ]
  },
  {
   "cell_type": "markdown",
   "id": "82907e26",
   "metadata": {},
   "source": [
    "**Ans:**\n",
    "  When an exception is thrown in a try block, the interpreter looks for the except block following it. It will not execute the rest of the code in the try block. \n",
    "    Python Exceptions are particularly useful when your code takes user input. You never know what the user will enter, and how it will mess with your code."
   ]
  },
  {
   "cell_type": "markdown",
   "id": "663592d8",
   "metadata": {},
   "source": [
    "**4. What is the difference between using a bare except block and specifying a specific exception type?**"
   ]
  },
  {
   "cell_type": "markdown",
   "id": "3d8924d7",
   "metadata": {},
   "source": [
    "**Ans:** The point of specifying the Exception is that ONLY that Exception will be caught, if you do not specify any Exception, then ALL Errors and Exceptions will be caught potentially masking bugs.\n",
    "\n",
    "For example let's say that I want to read a file if it exists or otherwise print a message to the user, I can write:"
   ]
  },
  {
   "cell_type": "code",
   "execution_count": 10,
   "id": "543fe62c",
   "metadata": {},
   "outputs": [
    {
     "name": "stdout",
     "output_type": "stream",
     "text": [
      "File not found\n"
     ]
    }
   ],
   "source": [
    "try:\n",
    "    with ope(\"example.txt\", \"r\") as f:\n",
    "        print(f.read())\n",
    "except:\n",
    "    print(\"File not found\")"
   ]
  },
  {
   "cell_type": "markdown",
   "id": "26f05c18",
   "metadata": {},
   "source": [
    "But while this code runs fine without raising any exceptions, this code will never read the file, even if it exists!!!\n",
    "\n",
    "This is because I wrote ope instead of open and the NameError was caught by my bare except, If I write the except in the correct way:"
   ]
  },
  {
   "cell_type": "code",
   "execution_count": 11,
   "id": "52e20be2",
   "metadata": {},
   "outputs": [
    {
     "ename": "NameError",
     "evalue": "name 'ope' is not defined",
     "output_type": "error",
     "traceback": [
      "\u001b[1;31m---------------------------------------------------------------------------\u001b[0m",
      "\u001b[1;31mNameError\u001b[0m                                 Traceback (most recent call last)",
      "\u001b[1;32m~\\AppData\\Local\\Temp\\ipykernel_8264\\37888523.py\u001b[0m in \u001b[0;36m<module>\u001b[1;34m\u001b[0m\n\u001b[0;32m      1\u001b[0m \u001b[1;32mtry\u001b[0m\u001b[1;33m:\u001b[0m\u001b[1;33m\u001b[0m\u001b[1;33m\u001b[0m\u001b[0m\n\u001b[1;32m----> 2\u001b[1;33m     \u001b[1;32mwith\u001b[0m \u001b[0mope\u001b[0m\u001b[1;33m(\u001b[0m\u001b[1;34m\"example.txt\"\u001b[0m\u001b[1;33m,\u001b[0m \u001b[1;34m\"r\"\u001b[0m\u001b[1;33m)\u001b[0m \u001b[1;32mas\u001b[0m \u001b[0mf\u001b[0m\u001b[1;33m:\u001b[0m\u001b[1;33m\u001b[0m\u001b[1;33m\u001b[0m\u001b[0m\n\u001b[0m\u001b[0;32m      3\u001b[0m         \u001b[0mprint\u001b[0m\u001b[1;33m(\u001b[0m\u001b[0mf\u001b[0m\u001b[1;33m.\u001b[0m\u001b[0mread\u001b[0m\u001b[1;33m(\u001b[0m\u001b[1;33m)\u001b[0m\u001b[1;33m)\u001b[0m\u001b[1;33m\u001b[0m\u001b[1;33m\u001b[0m\u001b[0m\n\u001b[0;32m      4\u001b[0m \u001b[1;32mexcept\u001b[0m \u001b[0mFileNotFoundError\u001b[0m\u001b[1;33m:\u001b[0m\u001b[1;33m\u001b[0m\u001b[1;33m\u001b[0m\u001b[0m\n\u001b[0;32m      5\u001b[0m     \u001b[0mprint\u001b[0m\u001b[1;33m(\u001b[0m\u001b[1;34m\"File not found\"\u001b[0m\u001b[1;33m)\u001b[0m\u001b[1;33m\u001b[0m\u001b[1;33m\u001b[0m\u001b[0m\n",
      "\u001b[1;31mNameError\u001b[0m: name 'ope' is not defined"
     ]
    }
   ],
   "source": [
    "try:\n",
    "    with ope(\"example.txt\", \"r\") as f:\n",
    "        print(f.read())\n",
    "except FileNotFoundError:\n",
    "    print(\"File not found\")"
   ]
  },
  {
   "cell_type": "markdown",
   "id": "ae0ba073",
   "metadata": {},
   "source": [
    "**5. Can you have nested try-except blocks in Python? If yes, then give an example.**"
   ]
  },
  {
   "cell_type": "markdown",
   "id": "8479ca76",
   "metadata": {},
   "source": [
    "**Ans:** Yes, it is possible to have nested try-except blocks in Python. Nesting allows you to handle different types of exceptions at different levels of your code. Here's an example:"
   ]
  },
  {
   "cell_type": "code",
   "execution_count": 12,
   "id": "c896f84e",
   "metadata": {},
   "outputs": [
    {
     "name": "stdout",
     "output_type": "stream",
     "text": [
      "Error: Division by zero occurred!\n",
      "Error: Could not convert the string to an integer!\n"
     ]
    }
   ],
   "source": [
    "try:\n",
    "    # Outer try-except block\n",
    "    outer_variable = 10 / 0  # This will raise a ZeroDivisionError\n",
    "except ZeroDivisionError:\n",
    "    print(\"Error: Division by zero occurred!\")\n",
    "    try:\n",
    "        # Inner try-except block\n",
    "        inner_variable = int('abc')  # This will raise a ValueError\n",
    "    except ValueError:\n",
    "        print(\"Error: Could not convert the string to an integer!\")"
   ]
  },
  {
   "cell_type": "markdown",
   "id": "060d85ad",
   "metadata": {},
   "source": [
    "Nesting try-except blocks allows for more fine-grained error handling, where you can catch and handle specific exceptions at different levels of your code."
   ]
  },
  {
   "cell_type": "markdown",
   "id": "e0445d6e",
   "metadata": {},
   "source": [
    "**6. Can we use multiple exception blocks, if yes then give an example.**"
   ]
  },
  {
   "cell_type": "markdown",
   "id": "8525d618",
   "metadata": {},
   "source": [
    "**Ans:** Yes, it is possible to use multiple except blocks to handle different types of exceptions in Python. This allows you to specify different exception handlers for different types of errors. Here's an example:"
   ]
  },
  {
   "cell_type": "code",
   "execution_count": 14,
   "id": "0b5812b2",
   "metadata": {},
   "outputs": [
    {
     "name": "stdout",
     "output_type": "stream",
     "text": [
      "Error: File not found!\n"
     ]
    }
   ],
   "source": [
    "try:\n",
    "    # Some code that may raise exceptions\n",
    "    file = open(\"nonexistent_file.txt\", \"r\")\n",
    "    data = file.read()\n",
    "    result = 10 / int(data)\n",
    "    print(result)\n",
    "except FileNotFoundError:\n",
    "    print(\"Error: File not found!\")\n",
    "except ValueError:\n",
    "    print(\"Error: Invalid data!\")\n",
    "except ZeroDivisionError:\n",
    "    print(\"Error: Division by zero occurred!\")\n",
    "except Exception as e:\n",
    "    print(\"Error: An unexpected error occurred:\", str(e))"
   ]
  },
  {
   "cell_type": "markdown",
   "id": "4599353a",
   "metadata": {},
   "source": [
    "**7. Write the reason due to which following errors are raised:**"
   ]
  },
  {
   "cell_type": "markdown",
   "id": "bcfce6fd",
   "metadata": {},
   "source": [
    "**Ans:** \n",
    "\n",
    "**<code>EOFError:</code>** This error is raised when the built-in input() function hits an end-of-file condition. It occurs when there is an attempt to read input from the user, but no more data is available, such as when the user cancels input (e.g., by pressing Ctrl+D or Ctrl+Z).\n",
    "\n",
    "**<code>FloatingPointError:**</code> This error is raised when a floating-point operation fails. It typically occurs when there is an error in mathematical calculations involving floating-point numbers, such as division by zero or an invalid mathematical operation.\n",
    "\n",
    "**<code>IndexError:**</code> This error is raised when a sequence (such as a list or a string) is accessed using an invalid index. It occurs when you try to access an index that is outside the range of valid indices for the given sequence.\n",
    "\n",
    "**<code>MemoryError:**</code> This error is raised when an operation fails due to insufficient memory. It occurs when the Python interpreter cannot allocate enough memory to complete the requested operation, such as creating a new object or expanding a data structure.\n",
    "\n",
    "**<code>OverflowError:**</code> This error is raised when the result of an arithmetic operation is too large to be represented within the numeric type. It occurs when a calculation exceeds the maximum value that can be stored by the given numeric type.\n",
    "\n",
    "**<code>TabError:**</code> This error is raised when inconsistent or incorrect indentation using tabs and spaces is detected in Python code. It occurs when the interpreter encounters an indentation-related issue, such as mixing tabs and spaces or using an incorrect number of indentation spaces.\n",
    "\n",
    "**<code>ValueError:**</code>The Python ValueError is raised when the wrong value is assigned to an object. This can happen if the value is invalid for a given operation, or if the value does not exist. For example, if a negative integer is passed to a square root operation, a ValueError is raised.\n",
    "\n"
   ]
  },
  {
   "cell_type": "markdown",
   "id": "c9aac53a",
   "metadata": {},
   "source": [
    "**8. Write code for the following given scenario and add try-exception block to it.**"
   ]
  },
  {
   "cell_type": "markdown",
   "id": "235dfd8f",
   "metadata": {},
   "source": [
    "**Ans:**"
   ]
  },
  {
   "cell_type": "markdown",
   "id": "a99ecd0c",
   "metadata": {},
   "source": [
    "**a. Program to divide two numbers**"
   ]
  },
  {
   "cell_type": "code",
   "execution_count": 18,
   "id": "6aa6deab",
   "metadata": {},
   "outputs": [
    {
     "name": "stdout",
     "output_type": "stream",
     "text": [
      "Enter Number 1: 34\n",
      "Enter Number 2: 0\n",
      "Error: Division by zero is not allowed.\n"
     ]
    }
   ],
   "source": [
    "try:\n",
    "    Num1 = int(input(\"Enter Number 1: \"))\n",
    "    Num2 = int(input(\"Enter Number 2: \"))\n",
    "    result = Num1/Num2\n",
    "    print(result)\n",
    "except ZeroDivisionError:\n",
    "    print(\"Error: Division by zero is not allowed.\")\n",
    "except ValueError:\n",
    "    print(\"Error: Invalid input. Please enter numeric values.\")\n",
    "except Exception as e:\n",
    "    print(\"An unexpected error occurred:\", str(e))  "
   ]
  },
  {
   "cell_type": "markdown",
   "id": "037ec460",
   "metadata": {},
   "source": [
    "**b. Program to convert a string to an integer**"
   ]
  },
  {
   "cell_type": "code",
   "execution_count": 20,
   "id": "533f839f",
   "metadata": {},
   "outputs": [
    {
     "name": "stdout",
     "output_type": "stream",
     "text": [
      "Enter a number: qw\n",
      "invalid literal for int() with base 10: 'qw'\n"
     ]
    }
   ],
   "source": [
    "try:\n",
    "    string_num = input(\"Enter a number: \")\n",
    "    integer_num = int(string_num)\n",
    "    print(\"Converted integer:\", integer_num)\n",
    "except Exception as e:\n",
    "    print(str(e))"
   ]
  },
  {
   "cell_type": "markdown",
   "id": "303d7a81",
   "metadata": {},
   "source": [
    "**c. Program to access an element in a list**"
   ]
  },
  {
   "cell_type": "code",
   "execution_count": 21,
   "id": "02a0b427",
   "metadata": {},
   "outputs": [
    {
     "name": "stdout",
     "output_type": "stream",
     "text": [
      "Enter the index of the element to access: 354\n",
      "Error: Index is out of range.\n"
     ]
    }
   ],
   "source": [
    "my_list = [10, 20, 30, 40, 50]\n",
    "try:\n",
    "    index = int(input(\"Enter the index of the element to access: \"))\n",
    "    element = my_list[index]\n",
    "    print(\"Element at index\", index, \"is\", element)\n",
    "except IndexError:\n",
    "    print(\"Error: Index is out of range.\")\n",
    "except ValueError:\n",
    "    print(\"Error: Invalid input. Please enter a valid integer.\")\n",
    "except Exception as e:\n",
    "    print(\"An unexpected error occurred:\", str(e))"
   ]
  },
  {
   "cell_type": "markdown",
   "id": "3dbda664",
   "metadata": {},
   "source": [
    "**d. Program to handle a specific exception**"
   ]
  },
  {
   "cell_type": "code",
   "execution_count": 24,
   "id": "0ae42ddc",
   "metadata": {},
   "outputs": [
    {
     "name": "stdout",
     "output_type": "stream",
     "text": [
      "Enter the numerator: 34\n",
      "Enter the denominator: 0\n",
      "Error: Division by zero is not allowed.\n"
     ]
    }
   ],
   "source": [
    "def handle_specific_exception():\n",
    "    try:\n",
    "        numerator = int(input(\"Enter the numerator: \"))\n",
    "        denominator = int(input(\"Enter the denominator: \"))\n",
    "        result = numerator / denominator\n",
    "        print(\"Result:\", result)\n",
    "    except ZeroDivisionError:\n",
    "        print(\"Error: Division by zero is not allowed.\")\n",
    "    except ValueError:\n",
    "        print(\"Error: Invalid input. Please enter integer values.\")\n",
    "        \n",
    "\n",
    "handle_specific_exception()"
   ]
  },
  {
   "cell_type": "markdown",
   "id": "a56cae77",
   "metadata": {},
   "source": [
    "**e. Program to handle any exception**"
   ]
  },
  {
   "cell_type": "code",
   "execution_count": 25,
   "id": "14bdc1c3",
   "metadata": {},
   "outputs": [
    {
     "name": "stdout",
     "output_type": "stream",
     "text": [
      "Enter the numerator: 26\n",
      "Enter the denominator: to\n",
      "An error occurred: invalid literal for int() with base 10: 'to'\n"
     ]
    }
   ],
   "source": [
    "def handle_any_exception():\n",
    "    try:\n",
    "        numerator = int(input(\"Enter the numerator: \"))\n",
    "        denominator = int(input(\"Enter the denominator: \"))\n",
    "        result = numerator / denominator\n",
    "        print(\"Result:\", result)\n",
    "    except Exception as e:\n",
    "        print(\"An error occurred:\", str(e))\n",
    "\n",
    "\n",
    "handle_any_exception()"
   ]
  },
  {
   "cell_type": "code",
   "execution_count": null,
   "id": "304d7147",
   "metadata": {},
   "outputs": [],
   "source": []
  }
 ],
 "metadata": {
  "kernelspec": {
   "display_name": "Python 3 (ipykernel)",
   "language": "python",
   "name": "python3"
  },
  "language_info": {
   "codemirror_mode": {
    "name": "ipython",
    "version": 3
   },
   "file_extension": ".py",
   "mimetype": "text/x-python",
   "name": "python",
   "nbconvert_exporter": "python",
   "pygments_lexer": "ipython3",
   "version": "3.9.13"
  }
 },
 "nbformat": 4,
 "nbformat_minor": 5
}

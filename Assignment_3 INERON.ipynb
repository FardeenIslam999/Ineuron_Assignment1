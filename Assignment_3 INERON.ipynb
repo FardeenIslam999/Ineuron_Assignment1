{
 "cells": [
  {
   "cell_type": "markdown",
   "id": "68e841ed-c3e5-4311-aab8-b8bfb7072cc9",
   "metadata": {},
   "source": [
    "__1. Why are functions advantageous to have in your programs?__"
   ]
  },
  {
   "cell_type": "markdown",
   "id": "46c38658-4fd9-440f-877b-03b6ee6d8bdb",
   "metadata": {},
   "source": [
    "**Ans** =   Functions are advantageous to have in programs because :\n",
    "            <li> Duplication of the code is reduced and saves time.\n",
    "            <li> Increase the readability and modularity of the program.\n",
    "            <li> Modification of the program becomes easier.\n",
    "            <li> Reduces the chances of error."
   ]
  },
  {
   "cell_type": "markdown",
   "id": "6af13d56-b0ad-4953-839a-abff758f024c",
   "metadata": {},
   "source": [
    "__2. When does the code in a function run: when it's specified or when it's called?__\n"
   ]
  },
  {
   "cell_type": "markdown",
   "id": "4b41f2ef-4512-491e-9509-07b8b47165f0",
   "metadata": {},
   "source": [
    "**Ans** = The code in a function executes when the function is called, not when the function is specified."
   ]
  },
  {
   "cell_type": "markdown",
   "id": "52ae470f-e178-474c-bcd9-2789fefc968e",
   "metadata": {},
   "source": [
    "__3. What statement creates a function?__"
   ]
  },
  {
   "cell_type": "markdown",
   "id": "e69cc6fd-1f28-4fd0-bb6c-7fbc0c73caf8",
   "metadata": {},
   "source": [
    "**Ans** = The def statement defines, i.e. creates a function. Example:\n"
   ]
  },
  {
   "cell_type": "code",
   "execution_count": 6,
   "id": "a1645a22-77f9-4e74-87ba-13ee3dac892f",
   "metadata": {},
   "outputs": [],
   "source": [
    "def func():\n",
    "    print(\"Fardeen\")"
   ]
  },
  {
   "cell_type": "code",
   "execution_count": 5,
   "id": "f48f1297-afa9-4005-a22d-701b43b864c5",
   "metadata": {},
   "outputs": [
    {
     "name": "stdout",
     "output_type": "stream",
     "text": [
      "Fardeen\n"
     ]
    }
   ],
   "source": [
    "func()"
   ]
  },
  {
   "cell_type": "markdown",
   "id": "b47ecff7-f08a-41cd-ba2d-a7502eb91a3a",
   "metadata": {},
   "source": [
    "__4. What is the difference between a function and a function call?__"
   ]
  },
  {
   "cell_type": "markdown",
   "id": "1da71e91-a474-4377-bab5-cbd45e25113a",
   "metadata": {},
   "source": [
    "**Ans** = \"Function\" is a way or procedure to obtain a particular result. Whereas \"Function Call\" uses the function to execute the block of code present within the function"
   ]
  },
  {
   "cell_type": "markdown",
   "id": "03015531-394d-4da2-8765-e73e1e0f3d3c",
   "metadata": {},
   "source": [
    "__5. How many global scopes are there in a Python program? How many local scopes?__"
   ]
  },
  {
   "cell_type": "markdown",
   "id": "e05ed69a-6f01-4e36-88db-aa2132b042a7",
   "metadata": {},
   "source": [
    "**Ans** = <li>There is only one \"global scope\" in Python program. The scope of the global variable is present within the entire program.\n",
    "          <li>The \"Local variable\" is temporarily created when the function is called. The scope of the local variable is limited to the function."
   ]
  },
  {
   "cell_type": "markdown",
   "id": "6c9c57d5-bb95-4822-ac36-5431503a98c4",
   "metadata": {},
   "source": [
    "__6. What happens to variables in a local scope when the function call returns?__"
   ]
  },
  {
   "cell_type": "markdown",
   "id": "9491a44e-678e-4aba-ab23-d1c9f3401f1a",
   "metadata": {},
   "source": [
    "**Ans** = When a function returns, the local scope is destroyed, and all the variables in it are forgotten."
   ]
  },
  {
   "cell_type": "markdown",
   "id": "6c922e4a-3ca9-42cc-ad7c-92ce3741387b",
   "metadata": {},
   "source": [
    "__7. What is the concept of a return value? Is it possible to have a return value in an expression?__"
   ]
  },
  {
   "cell_type": "markdown",
   "id": "400c213d-449b-4b7b-9174-f792f3cd7388",
   "metadata": {},
   "source": [
    "**Ans** = \"Return value\" is the value after the funtion call executed. like any value, a return value can be used as part of an expression."
   ]
  },
  {
   "cell_type": "markdown",
   "id": "578164f0-cb5b-4061-a4d5-0b8c9b5238c9",
   "metadata": {},
   "source": [
    "__8. If a function does not have a return statement, what is the return value of a call to that function?__"
   ]
  },
  {
   "cell_type": "markdown",
   "id": "eb526909-8f7f-41e1-a06a-e1a7bd0dc12e",
   "metadata": {},
   "source": [
    "**Ans** = If the function does have a return statement, it returns value is NONE type."
   ]
  },
  {
   "cell_type": "markdown",
   "id": "3c568f1d-478c-48a7-b177-095ed16fdfd2",
   "metadata": {},
   "source": [
    "__9. How do you make a function variable refer to the global variable?__"
   ]
  },
  {
   "cell_type": "markdown",
   "id": "ac4505e4-6cdd-47d1-987b-e005d1612063",
   "metadata": {},
   "source": [
    "**Ans** = Variables that are created or defined outside the function are Global Variables\n",
    "\n",
    "Global Variables can be used anywhere within the program i.e. both inside or outside the function.\n",
    "\n"
   ]
  },
  {
   "cell_type": "markdown",
   "id": "e287283a-ea54-4907-bb97-844f444d1b78",
   "metadata": {},
   "source": [
    "__10. What is the data type of None?__"
   ]
  },
  {
   "cell_type": "markdown",
   "id": "a4025d1c-2e53-4e32-8246-2b94711ebc3d",
   "metadata": {},
   "source": [
    "**Ans** =  In Python, None is a special value that represents the absence of a value or a null value. It is an object of its own type, called \"NoneType\"."
   ]
  },
  {
   "cell_type": "code",
   "execution_count": 1,
   "id": "2782c84c-0799-41f9-b542-f06bd20e7b70",
   "metadata": {},
   "outputs": [
    {
     "data": {
      "text/plain": [
       "NoneType"
      ]
     },
     "execution_count": 1,
     "metadata": {},
     "output_type": "execute_result"
    }
   ],
   "source": [
    "type(None)"
   ]
  },
  {
   "cell_type": "markdown",
   "id": "a5e17894-5d56-404e-86b3-2b1f1e84f471",
   "metadata": {},
   "source": [
    "__11. What does the sentence import areallyourpetsnamederic do?__"
   ]
  },
  {
   "cell_type": "markdown",
   "id": "60b65bb9-b12c-4188-952a-5f9bdd2753e8",
   "metadata": {},
   "source": [
    "**Ans** = That import statement imports a module named areallyourpetsnamederic."
   ]
  },
  {
   "cell_type": "markdown",
   "id": "940d7334-2f20-4e42-bc32-7b0e8649de88",
   "metadata": {},
   "source": [
    "__12. If you had a bacon() feature in a spam module, what would you call it after importing spam?__"
   ]
  },
  {
   "cell_type": "markdown",
   "id": "a4d8664c-6d2f-4ea9-8187-8d0041efd6d2",
   "metadata": {},
   "source": [
    "**Ans** = After importing spam it will be called as :      spam.bacon()"
   ]
  },
  {
   "cell_type": "markdown",
   "id": "588ddafc-a7b3-46f7-a0d9-c6ccbc24e66e",
   "metadata": {},
   "source": [
    "__13. What can you do to save a programme from crashing if it encounters an error?__"
   ]
  },
  {
   "cell_type": "markdown",
   "id": "3df749ef-04f4-41ec-804b-598189a74204",
   "metadata": {},
   "source": [
    "**Ans** = We can save a programme from crashing by pacing it in a \"try clause\"."
   ]
  },
  {
   "cell_type": "markdown",
   "id": "2a6d2a77-1992-4e62-ac6e-eb1e739019c3",
   "metadata": {},
   "source": [
    "__14. What is the purpose of the try clause? What is the purpose of the except clause?__"
   ]
  },
  {
   "cell_type": "markdown",
   "id": "36ebc3b1-5943-48ae-af8f-51788d610bc1",
   "metadata": {},
   "source": [
    "Ans = Purpose of \"try clause\" is to save the programme from crashing. Where as the purpose of \"except clause\" is to handle the error obtain in try clause"
   ]
  }
 ],
 "metadata": {
  "kernelspec": {
   "display_name": "Python 3 (ipykernel)",
   "language": "python",
   "name": "python3"
  },
  "language_info": {
   "codemirror_mode": {
    "name": "ipython",
    "version": 3
   },
   "file_extension": ".py",
   "mimetype": "text/x-python",
   "name": "python",
   "nbconvert_exporter": "python",
   "pygments_lexer": "ipython3",
   "version": "3.10.6"
  }
 },
 "nbformat": 4,
 "nbformat_minor": 5
}

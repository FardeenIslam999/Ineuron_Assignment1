{
 "cells": [
  {
   "cell_type": "markdown",
   "id": "3e643bc9-ad46-4259-9fe1-31c35d780031",
   "metadata": {},
   "source": [
    "__Q.1. Create two int type variables, apply addition, subtraction, division and multiplications and store the results in variables. Then print the data in the following format by calling the variables:__\n",
    "\n",
    "        First variable is __ & second variable is __.\n",
    "        Addition: __ + __ = __\n",
    "        Subtraction: __ - __ = __\n",
    "        Multiplication: __ * __ = __\n",
    "        Division: __ / __ = __"
   ]
  },
  {
   "cell_type": "code",
   "execution_count": 4,
   "id": "c682607b-41d8-4fbd-924f-3bf4f4513163",
   "metadata": {},
   "outputs": [
    {
     "name": "stdout",
     "output_type": "stream",
     "text": [
      "Addition:      --> 8 + 7 = 15\n",
      "Subtraction:   --> 8 - 7 = 1\n",
      "Multiplication:--> 8 * 7 = 56\n",
      "Division:      --> 8 / 7 = 1.1428571428571428\n"
     ]
    }
   ],
   "source": [
    "# Create two integer variables\n",
    "num1 = 8\n",
    "num2 = 7\n",
    "\n",
    "addition       = num1 + num2\n",
    "subtraction    = num1 - num2\n",
    "multiplication = num1 * num2\n",
    "division       = num1 / num2\n",
    "\n",
    "print(\"Addition:      -->\", num1, \"+\", num2, \"=\", addition)\n",
    "print(\"Subtraction:   -->\", num1, \"-\", num2, \"=\", subtraction)\n",
    "print(\"Multiplication:-->\", num1, \"*\", num2, \"=\", multiplication)\n",
    "print(\"Division:      -->\", num1, \"/\", num2, \"=\", division)\n"
   ]
  },
  {
   "cell_type": "markdown",
   "id": "490af568-102c-43b2-8222-575699488617",
   "metadata": {},
   "source": [
    "__Q.2. What is the difference between the following operators:__\n",
    "         <li> ‘/’ & ‘//’\n",
    "         <li> ‘**’ & ‘^’"
   ]
  },
  {
   "cell_type": "markdown",
   "id": "053808ea-c5f1-41a2-996c-d80b74e3c3ef",
   "metadata": {},
   "source": [
    "**Ans** = <li><code>Difference between '/' and '//'</code>:\n",
    "          <li>'/' is the division operator in Python. It performs normal division and returns the quotient as a float, even if the result is a whole number.\n",
    "          <li>'//' is the floor division operator in Python. It performs division and returns the quotient as an integer, discarding the decimal part (flooring the result).\n",
    "          <li><code>Difference between '**' and '^'</code>:\n",
    "          <li>'**' is the exponentiation operator in Python. It raises a number to the power of another number.\n",
    "          <li>'^' is not a built-in operator in Python for exponentiation. Instead, it is used as the bitwise XOR operator for integer values."
   ]
  },
  {
   "cell_type": "markdown",
   "id": "73a9ad33-bb22-4dc4-b23e-205ff870c916",
   "metadata": {},
   "source": [
    "__Q.3. List the logical operators.__"
   ]
  },
  {
   "cell_type": "markdown",
   "id": "54026cee-ae14-4d39-8ce4-50fb9a312ccf",
   "metadata": {},
   "source": [
    "**Ans** = List of logical operators are : \n",
    "<li><code>AND Operator &</code>: Compares each bit of the first operand with the corresponding bit of the second operand. If both bits are 1, the corresponding result bit is set to 1. Otherwise, the result bit is set to 0.\n",
    "<li><code>OR Operator |</code>: Compares each bit of the first operand with the corresponding bit of the second operand. If either bit is 1, the corresponding result bit is set to 1. Otherwise, the result bit is set to 0.\n",
    "<li><code>NOT Operator ~</code>: Inverts all the bits of the operand. Every 0 is changed to 1, and every 1 is changed to 0.</p>\n",
    "    \n"
   ]
  },
  {
   "cell_type": "markdown",
   "id": "7671660c-b291-4880-9ce6-4bde0e7e467b",
   "metadata": {},
   "source": [
    "__Q.4. Explain right shift operator and left shift operator with examples.__"
   ]
  },
  {
   "cell_type": "markdown",
   "id": "23d65988-79b4-482d-9795-dfc484f8e1d3",
   "metadata": {},
   "source": [
    "**Ans** = <li><code>Right Shift Operator</code>: Shifts the bits of the number to the right by the number of bits specified. Each shift to the right corresponds to dividing the number by 2. For example :"
   ]
  },
  {
   "cell_type": "code",
   "execution_count": 14,
   "id": "0537497e-3ac5-415b-9b34-4c45d3eb6a21",
   "metadata": {},
   "outputs": [
    {
     "name": "stdout",
     "output_type": "stream",
     "text": [
      "2\n"
     ]
    }
   ],
   "source": [
    "a = 10           # in binary: 1010\n",
    "result = a >> 2  # result is 2 (in binary: 0010)\n",
    "print(result)"
   ]
  },
  {
   "cell_type": "markdown",
   "id": "9f48ff3e-b5fa-4895-a06f-d2ef795989df",
   "metadata": {},
   "source": [
    "<li><code>Left Shift Operator</code>: Shifts the bits of the number to the left by the number of bits specified. Each shift to the left corresponds to multiplying the number by 2. For example :"
   ]
  },
  {
   "cell_type": "code",
   "execution_count": 13,
   "id": "73c20d92-9222-4059-92c7-1760866a6ffb",
   "metadata": {},
   "outputs": [
    {
     "name": "stdout",
     "output_type": "stream",
     "text": [
      "40\n"
     ]
    }
   ],
   "source": [
    "a = 10           # in binary: 1010\n",
    "result = a << 2  # result is 40 (in binary: 101000)\n",
    "print(result)"
   ]
  },
  {
   "cell_type": "markdown",
   "id": "3d4e08a2-14dd-4ba1-92bd-ab6986a43d0d",
   "metadata": {},
   "source": [
    "__Q.5. Create a list containing int type data of length 15. Then write a code to check if 10 is present in the list or not.__"
   ]
  },
  {
   "cell_type": "code",
   "execution_count": 16,
   "id": "4495fcc7-6555-4879-9569-00e11b116cce",
   "metadata": {},
   "outputs": [
    {
     "name": "stdout",
     "output_type": "stream",
     "text": [
      "10 is not present in the list.\n"
     ]
    }
   ],
   "source": [
    "#  list of integers\n",
    "numbers = [13, 3, 9, 15, 11, 8, 14, 4, 7, 1, 2, 5, 6, 12 ]\n",
    "\n",
    "# Check if 10 is present in the list\n",
    "if 10 in numbers:\n",
    "    print(\"10 is present in the list.\")\n",
    "else:\n",
    "    print(\"10 is not present in the list.\")"
   ]
  }
 ],
 "metadata": {
  "kernelspec": {
   "display_name": "Python 3 (ipykernel)",
   "language": "python",
   "name": "python3"
  },
  "language_info": {
   "codemirror_mode": {
    "name": "ipython",
    "version": 3
   },
   "file_extension": ".py",
   "mimetype": "text/x-python",
   "name": "python",
   "nbconvert_exporter": "python",
   "pygments_lexer": "ipython3",
   "version": "3.10.6"
  }
 },
 "nbformat": 4,
 "nbformat_minor": 5
}

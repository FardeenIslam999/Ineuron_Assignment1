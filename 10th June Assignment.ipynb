{
 "cells": [
  {
   "cell_type": "markdown",
   "id": "13fce4cf-10db-4aae-96c7-4be977516824",
   "metadata": {},
   "source": [
    "## 10th June - Python(Functions Assignment) - 1"
   ]
  },
  {
   "cell_type": "markdown",
   "id": "a2e7519c-f063-4f4b-a5bd-54707698682f",
   "metadata": {},
   "source": [
    "__1. In Python, what is the difference between a built-in function and a user-defined function? Provide an\n",
    "example of each.__"
   ]
  },
  {
   "cell_type": "markdown",
   "id": "44b4b324-0a91-4ad8-be13-75c0721e828f",
   "metadata": {},
   "source": [
    "**Ans** = The difference between a built-in function and a user-defined function is that in \"built-in function\" the funtions are already present in the Python language itself and is available for use at any point of time without writing the codes again an again. On the other hand, a user-defined function is the function which is created by the user to perform a specific task or set of tasks and is not pre defined in the Python language by default."
   ]
  },
  {
   "cell_type": "code",
   "execution_count": 3,
   "id": "4d77d92e-da92-486b-b17b-64ea9d385d1e",
   "metadata": {},
   "outputs": [
    {
     "name": "stdout",
     "output_type": "stream",
     "text": [
      "0b100\n"
     ]
    }
   ],
   "source": [
    "# Example of built-in functions- here bin() is a built in function which give binary string of any integer number.\n",
    "print(bin(4))"
   ]
  },
  {
   "cell_type": "code",
   "execution_count": 6,
   "id": "43599216-3911-4637-b4b5-e4a565e4535c",
   "metadata": {},
   "outputs": [
    {
     "name": "stdout",
     "output_type": "stream",
     "text": [
      "81\n"
     ]
    }
   ],
   "source": [
    "# Example of user-defined functions- here we use \"def\" to define the to the function.\n",
    "def calculate_square(x):\n",
    "    return x ** 2\n",
    "\n",
    "result = calculate_square(9)\n",
    "print(result)"
   ]
  },
  {
   "cell_type": "markdown",
   "id": "d70e526f-385d-46ab-b699-39ea86310b5d",
   "metadata": {},
   "source": [
    "**2. How can you pass arguments to a function in Python? Explain the difference between positional\n",
    "arguments and keyword arguments.**"
   ]
  },
  {
   "cell_type": "markdown",
   "id": "aec379b4-94f4-4624-8065-f380f7656c08",
   "metadata": {},
   "source": [
    "**Ans** = In Python, you can pass arguments to a function in the following ways:\n",
    "            \n",
    "<code>Positional Arguments</code>:\n",
    "            Positional arguments are passed to a function based on their position or order. The values are assigned to the function parameters in the same order as they are passed. The number and order of arguments must match the function definition."
   ]
  },
  {
   "cell_type": "code",
   "execution_count": 19,
   "id": "dc5c7bd1-3d6e-4f4c-a5dd-da85ea32ca53",
   "metadata": {},
   "outputs": [
    {
     "name": "stdout",
     "output_type": "stream",
     "text": [
      "Your name is Fardeen and your age is 23.\n"
     ]
    }
   ],
   "source": [
    "# Example of Positional Arguments:\n",
    "def person1(name, age):\n",
    "    print(f\"Your name is {name} and your age is {age}.\")\n",
    "\n",
    "person1(\"Fardeen\", 23)"
   ]
  },
  {
   "cell_type": "markdown",
   "id": "472bc7b0-4182-4300-9b48-eccd66b883f5",
   "metadata": {},
   "source": [
    "<code>Keyword Arguments</code>:\n",
    "Keyword arguments are passed to a function using their corresponding parameter names. This way, the order of the arguments doesn't matter as long as each argument is associated with the correct parameter."
   ]
  },
  {
   "cell_type": "code",
   "execution_count": 22,
   "id": "5576adb1-e69a-4d42-a6d7-f9c32acefe71",
   "metadata": {},
   "outputs": [
    {
     "name": "stdout",
     "output_type": "stream",
     "text": [
      "Hello, Fardeen! You are 23 years old.\n"
     ]
    }
   ],
   "source": [
    "# Example of Keyword Arguments:\n",
    "def person(name, age):\n",
    "    print(f\"Hello, {name}! You are {age} years old.\")\n",
    "\n",
    "person(age=23, name='Fardeen')"
   ]
  },
  {
   "cell_type": "markdown",
   "id": "807eabb5-d09a-4755-827d-f9adb9018452",
   "metadata": {},
   "source": [
    "Overall, the main difference between positional and keyword arguments lies in how the arguments are matched with the function parameters. Positional arguments rely on the order, while keyword arguments use parameter names for association."
   ]
  },
  {
   "cell_type": "markdown",
   "id": "0b5c5d96-97e6-466b-9750-0e781b7b539d",
   "metadata": {},
   "source": [
    "**3. What is the purpose of the return statement in a function? Can a function have multiple return\n",
    "statements? Explain with an example.**"
   ]
  },
  {
   "cell_type": "markdown",
   "id": "088f8508-2383-46d8-a581-9146c2175ab2",
   "metadata": {},
   "source": [
    "**Ans** = The \"return\" statement in a function is used to specify the value or values that the function should output or \"return\" back to the caller. When a function encounters a return statement, it immediately exits the function and passes the specified value(s) back to the caller. And \"yes\" a function can have multiple return statements."
   ]
  },
  {
   "cell_type": "code",
   "execution_count": 27,
   "id": "1a1db0b1-879b-403c-a86d-a442b9217680",
   "metadata": {},
   "outputs": [
    {
     "name": "stdout",
     "output_type": "stream",
     "text": [
      "The sum is: None\n"
     ]
    }
   ],
   "source": [
    "def add_numbers(number_1, number_2):\n",
    "    sum = number_1 + number_2\n",
    "\n",
    "result = add_numbers(0, 9)\n",
    "print(\"The sum is:\", result)\n",
    "# The add_numbers function still computes the sum of the two numbers, but it doesn't explicitly return the result.\n",
    "# As a result, when we print result, it outputs None because that's the default return value when no return statement is used."
   ]
  },
  {
   "cell_type": "code",
   "execution_count": 26,
   "id": "edcdcfc2-d40e-45c1-be0d-c2e8c54ed39d",
   "metadata": {},
   "outputs": [
    {
     "name": "stdout",
     "output_type": "stream",
     "text": [
      "The sum is: 15\n"
     ]
    }
   ],
   "source": [
    "def add_numbers(number_1, number_2):\n",
    "    sum = number_1 + number_2\n",
    "    return sum\n",
    "\n",
    "result = add_numbers(9, 6)\n",
    "print(\"The sum is:\", result)\n",
    "# In this example, the add_numbers function takes two numbers as input, performs the addition.\n",
    "# And returns the sum using the return statement."
   ]
  },
  {
   "cell_type": "markdown",
   "id": "ee1b3f1d-5afd-4919-bb5b-fe361b8fc9b0",
   "metadata": {},
   "source": [
    "Overall, the return statement is crucial in user-defined functions as it enables the functions to produce outputs, pass data, allow result reusability, handle conditional returns, and control the flow of the function's execution."
   ]
  },
  {
   "cell_type": "markdown",
   "id": "6fd7ee2c-f56a-436b-9df6-51d1c5de7901",
   "metadata": {},
   "source": [
    "**4. What are lambda functions in Python? How are they different from regular functions? Provide an\n",
    "example where a lambda function can be useful.**"
   ]
  },
  {
   "cell_type": "markdown",
   "id": "7481f27f-e091-4676-93bf-3c7b0a4344ad",
   "metadata": {},
   "source": [
    "**Ans** = Python Lambda Functions are anonymous function which means that the function has no name. As we already know that the def keyword is used to define a normal function in Python. Similarly, the lambda keyword is used to define an anonymous function in Python. \n",
    "\n",
    "**Lambda functions are different from regular functions in a few ways**:\n",
    "<li>Lambda functions are useful for small tasks that are not reused throughout your code.\n",
    "<li>They can take any number of arguments but can only have one expression.\n",
    "<li>Lambda functions do not require a <code>return</code> statement, the expression is implicitly returned."
   ]
  },
  {
   "cell_type": "code",
   "execution_count": 33,
   "id": "98a9fdea-7b74-4275-a5f7-5675381a3639",
   "metadata": {},
   "outputs": [
    {
     "name": "stdout",
     "output_type": "stream",
     "text": [
      "32\n"
     ]
    }
   ],
   "source": [
    "# Example of Lambda function: \n",
    "Add_four_numbers = lambda x, y, z, a: x + y + z + a\n",
    "\n",
    "result = Add_four_numbers(8, 7, 8, 9)\n",
    "print(result) "
   ]
  },
  {
   "cell_type": "markdown",
   "id": "80216568-dead-4d31-8335-af76c7d427dc",
   "metadata": {},
   "source": [
    "**5. How does the concept of \"scope\" apply to functions in Python? Explain the difference between local\n",
    "scope and global scope.**"
   ]
  },
  {
   "cell_type": "markdown",
   "id": "2b0c7920-dbbb-4cec-841e-b4aa634b39dd",
   "metadata": {},
   "source": [
    "**Ans** = The scope of the variable is simply lifetime of a variable. It is block of code under which a variable is applicable or alive.\n",
    "\n",
    "<li>Inside a function or a block: Local Scope\n",
    "<li>Outside of all functions: Global Scope\n",
    "    \n",
    "    \n",
    "<code>Local Scope</code>:\n",
    "Local scope refers to the scope within a specific block, such as a function or a loop. Variables defined within this scope are called local variables. They are only accessible and visible within the block where they are defined. Once the block is exited, the local variables are destroyed, and their values are no longer available.\n"
   ]
  },
  {
   "cell_type": "code",
   "execution_count": 39,
   "id": "1446a71b-a12b-4289-8afe-73118b0c5451",
   "metadata": {},
   "outputs": [],
   "source": [
    "# Example of local scope:\n",
    "def my_function():\n",
    "    x = 90  # Local Scope\n",
    "    print(x)\n"
   ]
  },
  {
   "cell_type": "code",
   "execution_count": 1,
   "id": "1cf06246-c577-42e6-af4a-6756451112ad",
   "metadata": {},
   "outputs": [
    {
     "ename": "NameError",
     "evalue": "name 'my_function' is not defined",
     "output_type": "error",
     "traceback": [
      "\u001b[0;31m---------------------------------------------------------------------------\u001b[0m",
      "\u001b[0;31mNameError\u001b[0m                                 Traceback (most recent call last)",
      "Cell \u001b[0;32mIn [1], line 1\u001b[0m\n\u001b[0;32m----> 1\u001b[0m \u001b[43mmy_function\u001b[49m()  \u001b[38;5;66;03m# Output: 90\u001b[39;00m\n\u001b[1;32m      2\u001b[0m \u001b[38;5;28mprint\u001b[39m(x)  \u001b[38;5;66;03m# NameError: name 'x' is not defined\u001b[39;00m\n\u001b[1;32m      3\u001b[0m \u001b[38;5;241m10\u001b[39m\n",
      "\u001b[0;31mNameError\u001b[0m: name 'my_function' is not defined"
     ]
    }
   ],
   "source": [
    "my_function()  # Output: 90\n",
    "print(x)  # NameError: name 'my_function' is not defined\n",
    "10"
   ]
  },
  {
   "cell_type": "markdown",
   "id": "18829620-addd-476f-887f-ae869b5952bb",
   "metadata": {},
   "source": [
    "A <code>Global Scope</code> in the program is a variable defined outside the subroutine or function. It has a global scope means it holds its value throughout the lifetime of the program. Hence, it can be accessed throughout the program by any function defined within the program, unless it is shadowed."
   ]
  },
  {
   "cell_type": "code",
   "execution_count": 2,
   "id": "a2588a9c-8aff-4cf7-9d18-0212d6e414ae",
   "metadata": {},
   "outputs": [
    {
     "name": "stdout",
     "output_type": "stream",
     "text": [
      "270\n",
      "270\n"
     ]
    }
   ],
   "source": [
    "y = 270  # Global scope\n",
    "\n",
    "def my_function():\n",
    "    print(y)  # Accessing global scope\n",
    "\n",
    "my_function()  # Output: 270\n",
    "print(y)  # Output: 270"
   ]
  },
  {
   "cell_type": "markdown",
   "id": "3e83d2ba-1298-4b3b-8212-2f720e0e6975",
   "metadata": {},
   "source": [
    "**6. How can you use the \"return\" statement in a Python function to return multiple values?**"
   ]
  },
  {
   "cell_type": "markdown",
   "id": "77b099f2-0702-4454-a91f-f670b7a74d96",
   "metadata": {},
   "source": [
    "**Ans** = In Python, you can use the return statement in a function to return multiple values as a tuple. To do this, you simply separate the values you want to return with commas, and Python will automatically pack them into a tuple. Here's an example:"
   ]
  },
  {
   "cell_type": "code",
   "execution_count": 1,
   "id": "97f84095-4792-4b50-b4ea-8a53a83b16f9",
   "metadata": {},
   "outputs": [
    {
     "name": "stdout",
     "output_type": "stream",
     "text": [
      "(60, 99, 87)\n",
      "60 99 87\n"
     ]
    }
   ],
   "source": [
    "def values ():\n",
    "    x = 60\n",
    "    y = 99\n",
    "    z = 87\n",
    "    return x, y, z\n",
    "\n",
    "# Calling the function and unpacking the returned values\n",
    "result = values()\n",
    "print(result)  # Output: (60, 99, 87)\n",
    "\n",
    "# Unpacking the returned values directly into variables\n",
    "x_val, y_val, z_val = values()\n",
    "print(x_val, y_val, z_val)  # Output: 60 99 87"
   ]
  },
  {
   "cell_type": "markdown",
   "id": "6e184406-bb2f-4e0a-a3ca-ad4d5883bdce",
   "metadata": {},
   "source": [
    "**7. What is the difference between the \"pass by value\" and \"pass by reference\" concepts when it comes to function arguments in Python?**"
   ]
  },
  {
   "cell_type": "markdown",
   "id": "b362834a-1741-4c01-93f1-b4fe30f888d3",
   "metadata": {},
   "source": [
    "**Ans** = \n",
    "\n",
    "<code>Pass by Value:</code>\n",
    "In a \"pass by value\" mechanism, a copy of the value of the variable is passed to the function. Modifications made to the function parameter inside the function do not affect the original variable outside the function. Assigning a new value to the function parameter inside the function does not impact the original variable.\n",
    "\n",
    "<code>Pass by Reference:</code>\n",
    "In a \"pass by reference\" mechanism, a reference or memory address of the variable is passed to the function. Modifications made to the function parameter inside the function directly affect the original variable outside the function. Assigning a new value to the function parameter inside the function can change the original variable."
   ]
  },
  {
   "cell_type": "code",
   "execution_count": 2,
   "id": "43ad935d-2945-4ccc-858b-2b9b1742c2a8",
   "metadata": {},
   "outputs": [
    {
     "name": "stdout",
     "output_type": "stream",
     "text": [
      "Inside the function: 42\n",
      "Outside the function: 10\n",
      "Inside the function: [1, 2, 3, 42]\n",
      "Outside the function: [1, 2, 3, 42]\n"
     ]
    }
   ],
   "source": [
    "# For example \n",
    "def modify_immutable(x):\n",
    "    x = 42  # Rebinding the parameter to a new object (integer is immutable)\n",
    "    print(\"Inside the function:\", x)\n",
    "\n",
    "def modify_mutable(lst):\n",
    "    lst.append(42)  # Modifying the list directly (list is mutable)\n",
    "    print(\"Inside the function:\", lst)\n",
    "\n",
    "# Immutable object (integer)\n",
    "a = 10\n",
    "modify_immutable(a)\n",
    "print(\"Outside the function:\", a)  # Output: Outside the function: 10\n",
    "\n",
    "# Mutable object (list)\n",
    "b = [1, 2, 3]\n",
    "modify_mutable(b)\n",
    "print(\"Outside the function:\", b)  # Output: Outside the function: [1, 2, 3]"
   ]
  },
  {
   "cell_type": "markdown",
   "id": "96ea099a-93dd-4a73-b1dc-6063c3a3881d",
   "metadata": {},
   "source": [
    "**8. Create a function that can intake integer or decimal value and do following operations:**\n",
    "\n",
    "    a. Logarithmic function (log x) \n",
    "    b. Exponential function (exp(x)) \n",
    "    c. Power function with base 2 (2x) \n",
    "    d. Square root"
   ]
  },
  {
   "cell_type": "markdown",
   "id": "021cdc8f-4103-4951-b3c7-2df1924e59dc",
   "metadata": {},
   "source": [
    "**Ans** = "
   ]
  },
  {
   "cell_type": "code",
   "execution_count": 14,
   "id": "17566e28-0433-4ef4-9eb2-98913535b5bf",
   "metadata": {},
   "outputs": [
    {
     "name": "stdout",
     "output_type": "stream",
     "text": [
      "Logarithmic value: 1.0986122886681098\n",
      "Exponential value: 20.085536923187668\n",
      "Power value: 8.0\n",
      "Square root value: 1.7320508075688772\n"
     ]
    }
   ],
   "source": [
    "import math\n",
    "\n",
    "def perform_operations(value):\n",
    "    logarithm = math.log(value)\n",
    "    exponential = math.exp(value)\n",
    "    power = math.pow(2, value)\n",
    "    square_root = math.sqrt(value)\n",
    "    \n",
    "    return logarithm, exponential, power, square_root\n",
    "\n",
    "result = perform_operations(3)\n",
    "print(\"Logarithmic value:\", result[0])\n",
    "print(\"Exponential value:\", result[1])\n",
    "print(\"Power value:\", result[2])\n",
    "print(\"Square root value:\", result[3])"
   ]
  },
  {
   "cell_type": "markdown",
   "id": "7c565684-807b-4f28-9045-f646ae003cb2",
   "metadata": {},
   "source": [
    "**9. Create a function that takes a full name as an argument and returns first name and last name.**"
   ]
  },
  {
   "cell_type": "markdown",
   "id": "39691834-35ca-4955-b264-64be5530108e",
   "metadata": {},
   "source": [
    "**Ans** = "
   ]
  },
  {
   "cell_type": "code",
   "execution_count": 17,
   "id": "12b6be8b-d10f-459f-84e8-74cf7855733c",
   "metadata": {},
   "outputs": [
    {
     "name": "stdout",
     "output_type": "stream",
     "text": [
      "First Name: Fardeen\n",
      "Last Name: Islam\n"
     ]
    }
   ],
   "source": [
    "def get_first_and_last_name(full_name):\n",
    "    # Split the full name into words (assuming first and last name separated by space)\n",
    "    name_parts = full_name.split()\n",
    "\n",
    "    # Extract the first name (the first word)\n",
    "    first_name = name_parts[0]\n",
    "\n",
    "    # Extract the last name (the last word if there are more than one word)\n",
    "    last_name = name_parts[-1]\n",
    "\n",
    "    return first_name, last_name\n",
    "\n",
    "full_name = \"Fardeen Islam\"\n",
    "first_name, last_name = get_first_and_last_name(full_name)\n",
    "print(\"First Name:\", first_name)\n",
    "print(\"Last Name:\", last_name)\n"
   ]
  },
  {
   "cell_type": "code",
   "execution_count": null,
   "id": "13203234-ebed-4028-b812-7b49e39df63b",
   "metadata": {},
   "outputs": [],
   "source": []
  }
 ],
 "metadata": {
  "kernelspec": {
   "display_name": "Python 3 (ipykernel)",
   "language": "python",
   "name": "python3"
  },
  "language_info": {
   "codemirror_mode": {
    "name": "ipython",
    "version": 3
   },
   "file_extension": ".py",
   "mimetype": "text/x-python",
   "name": "python",
   "nbconvert_exporter": "python",
   "pygments_lexer": "ipython3",
   "version": "3.10.6"
  }
 },
 "nbformat": 4,
 "nbformat_minor": 5
}
